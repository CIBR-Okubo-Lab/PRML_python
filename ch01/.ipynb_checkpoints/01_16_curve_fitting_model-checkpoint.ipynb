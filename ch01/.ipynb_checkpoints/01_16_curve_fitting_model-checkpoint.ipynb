{
 "cells": [
  {
   "cell_type": "code",
   "execution_count": 1,
   "id": "4a13cd24",
   "metadata": {},
   "outputs": [],
   "source": [
    "from ipywidgets import interact\n",
    "import matplotlib.pyplot as plt\n",
    "import numpy as np\n",
    "from scipy.stats import norm\n",
    "from sklearn.preprocessing import PolynomialFeatures"
   ]
  },
  {
   "cell_type": "code",
   "execution_count": 2,
   "id": "cd57cf9f",
   "metadata": {},
   "outputs": [],
   "source": [
    "np.set_printoptions(precision=2, suppress=True)"
   ]
  },
  {
   "cell_type": "markdown",
   "id": "08462530",
   "metadata": {},
   "source": [
    "# Load sample data"
   ]
  },
  {
   "cell_type": "code",
   "execution_count": 3,
   "id": "8d67f985",
   "metadata": {},
   "outputs": [],
   "source": [
    "data = np.loadtxt('../data/curvefitting.txt', dtype=str, delimiter=' ')\n",
    "data = data.astype(np.float64)"
   ]
  },
  {
   "cell_type": "code",
   "execution_count": 4,
   "id": "e961ae4b",
   "metadata": {},
   "outputs": [],
   "source": [
    "x = data[:, 0]\n",
    "t = data[:, 1]"
   ]
  },
  {
   "cell_type": "code",
   "execution_count": 5,
   "id": "113dd908",
   "metadata": {},
   "outputs": [
    {
     "data": {
      "image/png": "[encoded data removed]",
      "text/plain": [
       "<Figure size 500x350 with 1 Axes>"
      ]
     },
     "metadata": {},
     "output_type": "display_data"
    }
   ],
   "source": [
    "plt.figure(figsize=(5, 3.5))\n",
    "plt.scatter(x, t, facecolors='none', edgecolors='b', s=50)\n",
    "plt.xlim([-0.1, 1.1])\n",
    "plt.ylim([-1.5, 1.5])\n",
    "plt.xticks(ticks=[0, 1])\n",
    "plt.yticks(ticks=[-1, 0, 1])\n",
    "plt.xlabel('x', fontsize=12)\n",
    "plt.ylabel('t', fontsize=12)\n",
    "plt.show()"
   ]
  },
  {
   "cell_type": "markdown",
   "id": "76de1ae4",
   "metadata": {},
   "source": [
    "# Polynomial model with Gaussian noise"
   ]
  },
  {
   "cell_type": "code",
   "execution_count": 6,
   "id": "f0d9d035",
   "metadata": {},
   "outputs": [],
   "source": [
    "M = 9  # degree of the polynomial"
   ]
  },
  {
   "cell_type": "code",
   "execution_count": 7,
   "id": "dd46f2a9",
   "metadata": {},
   "outputs": [],
   "source": [
    "# coefficients from table 1.2\n",
    "w = np.array([0.35, 4.74, -0.77, -31.97, -3.89, 55.28, 41.32, -45.95, -91.53, 72.68])"
   ]
  },
  {
   "cell_type": "code",
   "execution_count": 8,
   "id": "989ffcae",
   "metadata": {},
   "outputs": [],
   "source": [
    "x_grid = np.linspace(0, 1, 20)"
   ]
  },
  {
   "cell_type": "code",
   "execution_count": 9,
   "id": "734db964",
   "metadata": {},
   "outputs": [],
   "source": [
    "poly = PolynomialFeatures(degree=M, include_bias=True)\n",
    "X = poly.fit_transform(x_grid.reshape(-1, 1))"
   ]
  },
  {
   "cell_type": "code",
   "execution_count": 10,
   "id": "31e219b8",
   "metadata": {},
   "outputs": [
    {
     "data": {
      "text/plain": [
       "(20, 10)"
      ]
     },
     "execution_count": 10,
     "metadata": {},
     "output_type": "execute_result"
    }
   ],
   "source": [
    "X.shape"
   ]
  },
  {
   "cell_type": "code",
   "execution_count": 11,
   "id": "26d5cbc7",
   "metadata": {},
   "outputs": [],
   "source": [
    "y_grid = X @ w"
   ]
  },
  {
   "cell_type": "code",
   "execution_count": 12,
   "id": "b0b304e6",
   "metadata": {},
   "outputs": [],
   "source": [
    "beta = 10.0  # precision parameter of the Gaussian noise\n",
    "sigma = np.sqrt(1. / beta)"
   ]
  },
  {
   "cell_type": "code",
   "execution_count": 13,
   "id": "45547803",
   "metadata": {},
   "outputs": [],
   "source": [
    "t_grid = norm(loc=y_grid, scale=sigma).rvs()"
   ]
  },
  {
   "cell_type": "code",
   "execution_count": 14,
   "id": "18955086",
   "metadata": {},
   "outputs": [
    {
     "data": {
      "image/png": "[encoded data removed]",
      "text/plain": [
       "<Figure size 500x350 with 1 Axes>"
      ]
     },
     "metadata": {},
     "output_type": "display_data"
    }
   ],
   "source": [
    "plt.figure(figsize=(5, 3.5))\n",
    "plt.scatter(x, t, facecolors='none', edgecolors='b', s=30, label='t_data')\n",
    "plt.plot(x_grid, y_grid, 'r-', label='y(x, w)')\n",
    "plt.scatter(x_grid, t_grid, facecolors='none', edgecolors='r', s=30, label='t_model')\n",
    "plt.xlim([-0.1, 1.1])\n",
    "plt.ylim([-1.5, 1.5])\n",
    "plt.xticks(ticks=[0, 1])\n",
    "plt.yticks(ticks=[-1, 0, 1])\n",
    "plt.xlabel('x', fontsize=12)\n",
    "plt.ylabel('t', fontsize=12)\n",
    "plt.legend()\n",
    "plt.show()"
   ]
  },
  {
   "cell_type": "code",
   "execution_count": 15,
   "id": "1d475bfa",
   "metadata": {},
   "outputs": [],
   "source": [
    "def plot_results(beta=1):\n",
    "    sigma = np.sqrt(1. / beta)\n",
    "    t_grid = norm(loc=y_grid, scale=sigma).rvs()\n",
    "    plt.figure(figsize=(5, 3.5))\n",
    "    plt.scatter(x, t, facecolors='none', edgecolors='b', s=30, label='t_data')\n",
    "    plt.plot(x_grid, y_grid, 'r:', label='y(x, w)')\n",
    "    plt.scatter(x_grid, t_grid, facecolors='none', edgecolors='r', s=30, label='t_model')\n",
    "    plt.xlim([-0.1, 1.1])\n",
    "    plt.ylim([-1.5, 1.5])\n",
    "    plt.xticks(ticks=[0, 1])\n",
    "    plt.yticks(ticks=[-1, 0, 1])\n",
    "    plt.xlabel('x', fontsize=12)\n",
    "    plt.ylabel('t', fontsize=12)\n",
    "    plt.legend(loc='upper right')\n",
    "    plt.show()"
   ]
  },
  {
   "cell_type": "code",
   "execution_count": 16,
   "id": "0bc43864",
   "metadata": {},
   "outputs": [
    {
     "data": {
      "application/vnd.jupyter.widget-view+json": {
       "model_id": "4b92a093502743cbad6c16a4f29fa739",
       "version_major": 2,
       "version_minor": 0
      },
      "text/plain": [
       "interactive(children=(IntSlider(value=50, description='beta', min=1), Output()), _dom_classes=('widget-interac…"
      ]
     },
     "metadata": {},
     "output_type": "display_data"
    }
   ],
   "source": [
    "interact(\n",
    "    plot_results,\n",
    "    beta = (1, 100, 1),\n",
    ");"
   ]
  }
 ],
 "metadata": {
  "kernelspec": {
   "display_name": "Python 3 (ipykernel)",
   "language": "python",
   "name": "python3"
  },
  "language_info": {
   "codemirror_mode": {
    "name": "ipython",
    "version": 3
   },
   "file_extension": ".py",
   "mimetype": "text/x-python",
   "name": "python",
   "nbconvert_exporter": "python",
   "pygments_lexer": "ipython3",
   "version": "3.10.11"
  }
 },
 "nbformat": 4,
 "nbformat_minor": 5
}
