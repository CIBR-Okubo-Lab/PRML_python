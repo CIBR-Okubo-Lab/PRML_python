{
 "cells": [
  {
   "cell_type": "markdown",
   "id": "a40d19ff-a1c6-4897-80a7-f4e1cc9d0b88",
   "metadata": {},
   "source": [
    "# 1.6 Information theory"
   ]
  },
  {
   "cell_type": "code",
   "execution_count": 1,
   "id": "b30bbfc5-f91c-4ca6-93fb-d6dde5c04cd0",
   "metadata": {},
   "outputs": [],
   "source": [
    "from ipywidgets import interact\n",
    "import matplotlib.pyplot as plt\n",
    "import numpy as np"
   ]
  },
  {
   "cell_type": "code",
   "execution_count": 2,
   "id": "0a80e448-e999-4b03-9e6d-77814b3b0709",
   "metadata": {},
   "outputs": [],
   "source": [
    "N = 30  # number of bins\n",
    "x = np.arange(0, N, 1)\n",
    "mu = 15"
   ]
  },
  {
   "cell_type": "code",
   "execution_count": 3,
   "id": "7198375f-4738-4093-9a34-c9a47c1c88fd",
   "metadata": {},
   "outputs": [],
   "source": [
    "def make_dist(x, mu, sigma):\n",
    "    \"\"\"\n",
    "    Args:\n",
    "        x (np.array, float64): input values\n",
    "        mu (float64): mean of the Gaussian\n",
    "        sigma (float64): width of the Gaussian\n",
    "    Returns:\n",
    "        p (np.array, float64): probability mass function over x\n",
    "        H (float64): entropy\n",
    "    \"\"\"\n",
    "    p = np.exp(- (x - mu) ** 2 / (2 * sigma ** 2))  # Gaussian shape\n",
    "    p = p / p.sum()  # normalize\n",
    "    \n",
    "    H = - np.sum(p * np.log(p))  # entropy\n",
    "    \n",
    "    return p, H"
   ]
  },
  {
   "cell_type": "code",
   "execution_count": 4,
   "id": "f6cc9e7e-4317-4a61-a876-b3a5313cc107",
   "metadata": {},
   "outputs": [],
   "source": [
    "def plot_dist(x, p, H):\n",
    "    plt.bar(x, p, width=1, edgecolor='k')\n",
    "    plt.text(x=20, y=0.3, s=f'H = {H:.2f}', fontsize=12)\n",
    "    plt.yticks(np.arange(0, 1, 0.5))"
   ]
  },
  {
   "cell_type": "code",
   "execution_count": 5,
   "id": "f7747c11",
   "metadata": {},
   "outputs": [],
   "source": [
    "def plot_results(sigma=0.4):\n",
    "    p, H = make_dist(x, mu, sigma)\n",
    "    plot_dist(x, p, H)\n",
    "    plt.show()"
   ]
  },
  {
   "cell_type": "code",
   "execution_count": 6,
   "id": "ac7e9738",
   "metadata": {},
   "outputs": [
    {
     "data": {
      "application/vnd.jupyter.widget-view+json": {
       "model_id": "b64faee417b34a30bdd32e2fbd35ee7f",
       "version_major": 2,
       "version_minor": 0
      },
      "text/plain": [
       "interactive(children=(FloatSlider(value=0.4, description='sigma', max=30.0, min=0.4, step=0.05), Output()), _d…"
      ]
     },
     "metadata": {},
     "output_type": "display_data"
    }
   ],
   "source": [
    "interact(\n",
    "    plot_results,\n",
    "    sigma = (0.4, 30, 0.05),\n",
    ");"
   ]
  }
 ],
 "metadata": {
  "kernelspec": {
   "display_name": "Python 3 (ipykernel)",
   "language": "python",
   "name": "python3"
  },
  "language_info": {
   "codemirror_mode": {
    "name": "ipython",
    "version": 3
   },
   "file_extension": ".py",
   "mimetype": "text/x-python",
   "name": "python",
   "nbconvert_exporter": "python",
   "pygments_lexer": "ipython3",
   "version": "3.10.11"
  }
 },
 "nbformat": 4,
 "nbformat_minor": 5
}
