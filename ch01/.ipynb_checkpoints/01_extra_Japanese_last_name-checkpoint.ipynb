{
 "cells": [
  {
   "cell_type": "markdown",
   "id": "1cdf655a",
   "metadata": {},
   "source": [
    "Number of characters of Japanese last names. Data from this [article](https://mnk-news.net/detail.htm?articleId=426)."
   ]
  },
  {
   "cell_type": "code",
   "execution_count": 1,
   "id": "47851849",
   "metadata": {},
   "outputs": [],
   "source": [
    "import matplotlib.pyplot as plt\n",
    "import numpy as np\n",
    "import pandas as pd"
   ]
  },
  {
   "cell_type": "code",
   "execution_count": 2,
   "id": "7facd157",
   "metadata": {},
   "outputs": [],
   "source": [
    "d = [{'len': 1, 'count': 10_000}, {'len': 2, 'count': 200_000}, {'len': 3, 'count': 30_000},\n",
    "     {'len': 4, 'count': 400}, {'len': 5, 'count': 2}]  # 左衛門三郎, 勘解由小路 are the two last names with 5 characters"
   ]
  },
  {
   "cell_type": "code",
   "execution_count": 3,
   "id": "533e05bc",
   "metadata": {},
   "outputs": [
    {
     "data": {
      "text/html": [
       "<div>\n",
       "<style scoped>\n",
       "    .dataframe tbody tr th:only-of-type {\n",
       "        vertical-align: middle;\n",
       "    }\n",
       "\n",
       "    .dataframe tbody tr th {\n",
       "        vertical-align: top;\n",
       "    }\n",
       "\n",
       "    .dataframe thead th {\n",
       "        text-align: right;\n",
       "    }\n",
       "</style>\n",
       "<table border=\"1\" class=\"dataframe\">\n",
       "  <thead>\n",
       "    <tr style=\"text-align: right;\">\n",
       "      <th></th>\n",
       "      <th>len</th>\n",
       "      <th>count</th>\n",
       "    </tr>\n",
       "  </thead>\n",
       "  <tbody>\n",
       "    <tr>\n",
       "      <th>0</th>\n",
       "      <td>1</td>\n",
       "      <td>10000</td>\n",
       "    </tr>\n",
       "    <tr>\n",
       "      <th>1</th>\n",
       "      <td>2</td>\n",
       "      <td>200000</td>\n",
       "    </tr>\n",
       "    <tr>\n",
       "      <th>2</th>\n",
       "      <td>3</td>\n",
       "      <td>30000</td>\n",
       "    </tr>\n",
       "    <tr>\n",
       "      <th>3</th>\n",
       "      <td>4</td>\n",
       "      <td>400</td>\n",
       "    </tr>\n",
       "    <tr>\n",
       "      <th>4</th>\n",
       "      <td>5</td>\n",
       "      <td>2</td>\n",
       "    </tr>\n",
       "  </tbody>\n",
       "</table>\n",
       "</div>"
      ],
      "text/plain": [
       "   len   count\n",
       "0    1   10000\n",
       "1    2  200000\n",
       "2    3   30000\n",
       "3    4     400\n",
       "4    5       2"
      ]
     },
     "execution_count": 3,
     "metadata": {},
     "output_type": "execute_result"
    }
   ],
   "source": [
    "df = pd.DataFrame(d)\n",
    "df"
   ]
  },
  {
   "cell_type": "code",
   "execution_count": 4,
   "id": "485b46b1",
   "metadata": {},
   "outputs": [
    {
     "data": {
      "image/png": "[encoded data removed]",
      "text/plain": [
       "<Figure size 1000x300 with 2 Axes>"
      ]
     },
     "metadata": {},
     "output_type": "display_data"
    }
   ],
   "source": [
    "fig, ax = plt.subplots(1, 2, figsize=(10, 3))\n",
    "ax[0].bar(df['len'], df['count'], log=False, width=0.7)\n",
    "ax[0].set_xticks(df['len'])\n",
    "ax[0].set_xlabel('Length', fontsize=10)\n",
    "ax[0].set_ylabel('Count', fontsize=10)\n",
    "ax[0].set_title('Linear scale')\n",
    "ax[1].bar(df['len'], df['count'], log=True, width=0.7)\n",
    "ax[1].set_xticks(df['len'])\n",
    "ax[1].set_xlabel('Length', fontsize=10)\n",
    "ax[1].set_ylabel('Count', fontsize=10)\n",
    "ax[1].set_title('Log scale')\n",
    "plt.show()"
   ]
  },
  {
   "cell_type": "markdown",
   "id": "408c89c1",
   "metadata": {},
   "source": [
    "# Calculate entropy"
   ]
  },
  {
   "cell_type": "code",
   "execution_count": 5,
   "id": "e04a3408",
   "metadata": {},
   "outputs": [
    {
     "data": {
      "text/html": [
       "<div>\n",
       "<style scoped>\n",
       "    .dataframe tbody tr th:only-of-type {\n",
       "        vertical-align: middle;\n",
       "    }\n",
       "\n",
       "    .dataframe tbody tr th {\n",
       "        vertical-align: top;\n",
       "    }\n",
       "\n",
       "    .dataframe thead th {\n",
       "        text-align: right;\n",
       "    }\n",
       "</style>\n",
       "<table border=\"1\" class=\"dataframe\">\n",
       "  <thead>\n",
       "    <tr style=\"text-align: right;\">\n",
       "      <th></th>\n",
       "      <th>len</th>\n",
       "      <th>count</th>\n",
       "      <th>p</th>\n",
       "    </tr>\n",
       "  </thead>\n",
       "  <tbody>\n",
       "    <tr>\n",
       "      <th>0</th>\n",
       "      <td>1</td>\n",
       "      <td>10000</td>\n",
       "      <td>0.041597</td>\n",
       "    </tr>\n",
       "    <tr>\n",
       "      <th>1</th>\n",
       "      <td>2</td>\n",
       "      <td>200000</td>\n",
       "      <td>0.831940</td>\n",
       "    </tr>\n",
       "    <tr>\n",
       "      <th>2</th>\n",
       "      <td>3</td>\n",
       "      <td>30000</td>\n",
       "      <td>0.124791</td>\n",
       "    </tr>\n",
       "    <tr>\n",
       "      <th>3</th>\n",
       "      <td>4</td>\n",
       "      <td>400</td>\n",
       "      <td>0.001664</td>\n",
       "    </tr>\n",
       "    <tr>\n",
       "      <th>4</th>\n",
       "      <td>5</td>\n",
       "      <td>2</td>\n",
       "      <td>0.000008</td>\n",
       "    </tr>\n",
       "  </tbody>\n",
       "</table>\n",
       "</div>"
      ],
      "text/plain": [
       "   len   count         p\n",
       "0    1   10000  0.041597\n",
       "1    2  200000  0.831940\n",
       "2    3   30000  0.124791\n",
       "3    4     400  0.001664\n",
       "4    5       2  0.000008"
      ]
     },
     "execution_count": 5,
     "metadata": {},
     "output_type": "execute_result"
    }
   ],
   "source": [
    "df['p'] = df['count'] / df['count'].sum()\n",
    "df"
   ]
  },
  {
   "cell_type": "code",
   "execution_count": 6,
   "id": "d6291516",
   "metadata": {},
   "outputs": [
    {
     "data": {
      "text/plain": [
       "1.0"
      ]
     },
     "execution_count": 6,
     "metadata": {},
     "output_type": "execute_result"
    }
   ],
   "source": [
    "df['p'].sum()"
   ]
  },
  {
   "cell_type": "code",
   "execution_count": 7,
   "id": "82a2c03b",
   "metadata": {},
   "outputs": [],
   "source": [
    "df['log2_p'] = np.log2(df['p'])"
   ]
  },
  {
   "cell_type": "code",
   "execution_count": 8,
   "id": "d0edae20",
   "metadata": {},
   "outputs": [
    {
     "data": {
      "text/html": [
       "<div>\n",
       "<style scoped>\n",
       "    .dataframe tbody tr th:only-of-type {\n",
       "        vertical-align: middle;\n",
       "    }\n",
       "\n",
       "    .dataframe tbody tr th {\n",
       "        vertical-align: top;\n",
       "    }\n",
       "\n",
       "    .dataframe thead th {\n",
       "        text-align: right;\n",
       "    }\n",
       "</style>\n",
       "<table border=\"1\" class=\"dataframe\">\n",
       "  <thead>\n",
       "    <tr style=\"text-align: right;\">\n",
       "      <th></th>\n",
       "      <th>len</th>\n",
       "      <th>count</th>\n",
       "      <th>p</th>\n",
       "      <th>log2_p</th>\n",
       "    </tr>\n",
       "  </thead>\n",
       "  <tbody>\n",
       "    <tr>\n",
       "      <th>0</th>\n",
       "      <td>1</td>\n",
       "      <td>10000</td>\n",
       "      <td>0.041597</td>\n",
       "      <td>-4.587377</td>\n",
       "    </tr>\n",
       "    <tr>\n",
       "      <th>1</th>\n",
       "      <td>2</td>\n",
       "      <td>200000</td>\n",
       "      <td>0.831940</td>\n",
       "      <td>-0.265449</td>\n",
       "    </tr>\n",
       "    <tr>\n",
       "      <th>2</th>\n",
       "      <td>3</td>\n",
       "      <td>30000</td>\n",
       "      <td>0.124791</td>\n",
       "      <td>-3.002414</td>\n",
       "    </tr>\n",
       "    <tr>\n",
       "      <th>3</th>\n",
       "      <td>4</td>\n",
       "      <td>400</td>\n",
       "      <td>0.001664</td>\n",
       "      <td>-9.231233</td>\n",
       "    </tr>\n",
       "    <tr>\n",
       "      <th>4</th>\n",
       "      <td>5</td>\n",
       "      <td>2</td>\n",
       "      <td>0.000008</td>\n",
       "      <td>-16.875089</td>\n",
       "    </tr>\n",
       "  </tbody>\n",
       "</table>\n",
       "</div>"
      ],
      "text/plain": [
       "   len   count         p     log2_p\n",
       "0    1   10000  0.041597  -4.587377\n",
       "1    2  200000  0.831940  -0.265449\n",
       "2    3   30000  0.124791  -3.002414\n",
       "3    4     400  0.001664  -9.231233\n",
       "4    5       2  0.000008 -16.875089"
      ]
     },
     "execution_count": 8,
     "metadata": {},
     "output_type": "execute_result"
    }
   ],
   "source": [
    "df"
   ]
  },
  {
   "cell_type": "code",
   "execution_count": 11,
   "id": "7ab854c8",
   "metadata": {},
   "outputs": [],
   "source": [
    "H = - np.sum(df['p'] * df['log2_p'])"
   ]
  },
  {
   "cell_type": "code",
   "execution_count": 15,
   "id": "5995c76b",
   "metadata": {},
   "outputs": [
    {
     "name": "stdout",
     "output_type": "stream",
     "text": [
      "Entropy of this distribution is 0.802 bits.\n"
     ]
    }
   ],
   "source": [
    "print(f'Entropy of this distribution is {H:.3f} bits.')"
   ]
  }
 ],
 "metadata": {
  "kernelspec": {
   "display_name": "Python 3 (ipykernel)",
   "language": "python",
   "name": "python3"
  },
  "language_info": {
   "codemirror_mode": {
    "name": "ipython",
    "version": 3
   },
   "file_extension": ".py",
   "mimetype": "text/x-python",
   "name": "python",
   "nbconvert_exporter": "python",
   "pygments_lexer": "ipython3",
   "version": "3.10.11"
  }
 },
 "nbformat": 4,
 "nbformat_minor": 5
}
