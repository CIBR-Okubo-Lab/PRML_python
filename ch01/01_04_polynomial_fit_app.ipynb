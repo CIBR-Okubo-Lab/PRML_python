{
 "cells": [
  {
   "cell_type": "markdown",
   "id": "16ba582d-9d85-407a-990a-8752a15aa14a",
   "metadata": {},
   "source": [
    "# 1.1 Example: Polynomial Curve Fitting"
   ]
  },
  {
   "cell_type": "markdown",
   "id": "25a46237-97b9-4a1e-a59a-503023f97053",
   "metadata": {},
   "source": [
    "Polynomial regression of synthetic data (sine wave + Gaussian noise).\n",
    "\n",
    "Data obtained from figure 1.2 of PRML scanned using [PlotDigitizer Online App](https://plotdigitizer.com/app)"
   ]
  },
  {
   "cell_type": "code",
   "execution_count": 1,
   "id": "0f4fbf0b-39e7-4eb0-96e1-17a3ada4d2d5",
   "metadata": {},
   "outputs": [],
   "source": [
    "from ipywidgets import interact\n",
    "import matplotlib.pyplot as plt\n",
    "import numpy as np\n",
    "from sklearn.linear_model import LinearRegression\n",
    "from sklearn.preprocessing import PolynomialFeatures"
   ]
  },
  {
   "cell_type": "markdown",
   "id": "06c56af8-f87b-4a64-befd-b33ab05f5645",
   "metadata": {},
   "source": [
    "## Load data"
   ]
  },
  {
   "cell_type": "code",
   "execution_count": 2,
   "id": "19eed5b7-b97a-4ab9-b69b-694c771eb7f9",
   "metadata": {},
   "outputs": [],
   "source": [
    "data = np.loadtxt('../data/curvefitting.txt', dtype=str, delimiter=' ')"
   ]
  },
  {
   "cell_type": "code",
   "execution_count": 3,
   "id": "e5630ae4-0c30-4b17-ae6a-66c8f44b8990",
   "metadata": {},
   "outputs": [],
   "source": [
    "data = data.astype(np.float64)"
   ]
  },
  {
   "cell_type": "code",
   "execution_count": 4,
   "id": "17128473-52b5-4cb1-af1e-d376fad127ac",
   "metadata": {},
   "outputs": [],
   "source": [
    "x = data[:, 0]\n",
    "t = data[:, 1]"
   ]
  },
  {
   "cell_type": "code",
   "execution_count": 5,
   "id": "d1cab0f1-7638-4450-ac1b-d61aadcd26aa",
   "metadata": {},
   "outputs": [],
   "source": [
    "# for plotting the sinusoid\n",
    "x_grid = np.linspace(0, 1, 100)\n",
    "t_grid = np.sin(2 * np.pi * x_grid)"
   ]
  },
  {
   "cell_type": "code",
   "execution_count": 6,
   "id": "df42cf67-648d-48bd-864f-934cef49fa8e",
   "metadata": {},
   "outputs": [
    {
     "data": {
      "image/png": "[encoded data removed]",
      "text/plain": [
       "<Figure size 600x350 with 1 Axes>"
      ]
     },
     "metadata": {},
     "output_type": "display_data"
    }
   ],
   "source": [
    "plt.figure(figsize=(6, 3.5))\n",
    "plt.plot(x_grid, t_grid, 'g')  # ground truth sinusoid\n",
    "plt.scatter(x, t, facecolors='none', edgecolors='b', s=60)\n",
    "plt.xlim([-0.1, 1.1])\n",
    "plt.ylim([-1.5, 1.5])\n",
    "plt.xticks(ticks=[0, 1])\n",
    "plt.yticks(ticks=[-1, 0, 1])\n",
    "plt.xlabel('x', fontsize=12)\n",
    "plt.ylabel('t', fontsize=12)\n",
    "plt.show()"
   ]
  },
  {
   "cell_type": "markdown",
   "id": "e5209771-ecfd-46fd-abbf-4147a5c02ffc",
   "metadata": {},
   "source": [
    "## Polynomial curve fitting"
   ]
  },
  {
   "cell_type": "code",
   "execution_count": 7,
   "id": "dce1b0e3-8f8a-441b-8ab0-97b7889b0110",
   "metadata": {},
   "outputs": [],
   "source": [
    "def poly_fit(x, t, x_grid, M):\n",
    "    \"\"\"\n",
    "    Args:\n",
    "        x (np.array, float64): inputs\n",
    "        t (np.array, float64): target values\n",
    "        x_grid (np.array, float64): input values for making predictions\n",
    "        M (int): degree of the polynomial\n",
    "    Returns:\n",
    "        t_pred (np.array, float64): predicted values for x_grid\n",
    "        \n",
    "    \"\"\"\n",
    "    poly = PolynomialFeatures(degree=M, include_bias=True)\n",
    "    X = poly.fit_transform(x.reshape(-1, 1))\n",
    "    \n",
    "    model = LinearRegression(fit_intercept=False)\n",
    "    model.fit(X, t)\n",
    "    \n",
    "    X_grid = poly.fit_transform(x_grid.reshape(-1, 1))\n",
    "    t_pred = model.predict(X_grid)\n",
    "    \n",
    "    return t_pred"
   ]
  },
  {
   "cell_type": "code",
   "execution_count": 8,
   "id": "3d27dc1e-6863-433c-a7e2-751eab58ce9b",
   "metadata": {},
   "outputs": [],
   "source": [
    "def plot_fit(x_grid, t_pred, M):\n",
    "    plt.scatter(x, t, facecolors='none', edgecolors='b', s=60)\n",
    "    plt.plot(x_grid, t_grid , 'g')\n",
    "    plt.plot(x_grid, t_pred, 'r')\n",
    "    plt.text(x=0.8, y=0.9, s=f'M = {M}', fontsize=14) \n",
    "    plt.xlim([-0.1, 1.1])\n",
    "    plt.ylim([-1.4, 1.4])\n",
    "    plt.xticks(ticks=[0, 1])\n",
    "    plt.yticks(ticks=[-1, 0, 1])\n",
    "    plt.xlabel('x', fontsize=12)\n",
    "    plt.ylabel('t', fontsize=12)\n",
    "    plt.show()"
   ]
  },
  {
   "cell_type": "code",
   "execution_count": 9,
   "id": "a9214381",
   "metadata": {},
   "outputs": [],
   "source": [
    "def plot_results(M=0):\n",
    "    t_pred = poly_fit(x, t, x_grid, M)\n",
    "    plot_fit(x_grid, t_pred, M)\n",
    "    plt.show()"
   ]
  },
  {
   "cell_type": "code",
   "execution_count": 10,
   "id": "fc00f1b7",
   "metadata": {},
   "outputs": [
    {
     "data": {
      "application/vnd.jupyter.widget-view+json": {
       "model_id": "bd3ffe7ab15344f199909b4e707946d2",
       "version_major": 2,
       "version_minor": 0
      },
      "text/plain": [
       "interactive(children=(IntSlider(value=0, description='M', max=15), Output()), _dom_classes=('widget-interact',…"
      ]
     },
     "metadata": {},
     "output_type": "display_data"
    }
   ],
   "source": [
    "interact(\n",
    "    plot_results,\n",
    "    M = (0, 15, 1)\n",
    ");"
   ]
  }
 ],
 "metadata": {
  "kernelspec": {
   "display_name": "Python 3 (ipykernel)",
   "language": "python",
   "name": "python3"
  },
  "language_info": {
   "codemirror_mode": {
    "name": "ipython",
    "version": 3
   },
   "file_extension": ".py",
   "mimetype": "text/x-python",
   "name": "python",
   "nbconvert_exporter": "python",
   "pygments_lexer": "ipython3",
   "version": "3.10.11"
  }
 },
 "nbformat": 4,
 "nbformat_minor": 5
}
