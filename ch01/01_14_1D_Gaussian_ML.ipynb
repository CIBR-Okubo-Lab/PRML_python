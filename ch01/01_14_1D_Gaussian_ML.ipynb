{
 "cells": [
  {
   "cell_type": "markdown",
   "id": "b7010cf6-90bf-4033-a767-f2df4fbe053e",
   "metadata": {},
   "source": [
    "# 1.2.4 The Gaussian Distribution"
   ]
  },
  {
   "cell_type": "markdown",
   "id": "b78b0029",
   "metadata": {},
   "source": [
    "In this notebook, we will fit a 1D Gaussian distribution to a toy dataset composed of n=7 samples, as shown in Figure 1.14."
   ]
  },
  {
   "cell_type": "code",
   "execution_count": 1,
   "id": "8a26575c-9307-4811-8e31-9fc6a56dc046",
   "metadata": {},
   "outputs": [],
   "source": [
    "from ipywidgets import interact\n",
    "import matplotlib.pyplot as plt\n",
    "import numpy as np\n",
    "from scipy.stats import norm"
   ]
  },
  {
   "cell_type": "markdown",
   "id": "800ec40a",
   "metadata": {},
   "source": [
    "# Load data and calculate basic statistics"
   ]
  },
  {
   "cell_type": "code",
   "execution_count": 2,
   "id": "f416c57f-8c18-47a2-9401-c3831005e0be",
   "metadata": {},
   "outputs": [],
   "source": [
    "x = np.loadtxt('01_14.txt')"
   ]
  },
  {
   "cell_type": "code",
   "execution_count": 3,
   "id": "a2e15187-a46a-425b-bac3-3bad134d4edd",
   "metadata": {},
   "outputs": [
    {
     "data": {
      "text/plain": [
       "array([1.28, 1.71, 2.58, 3.85, 5.14, 6.84, 8.12])"
      ]
     },
     "execution_count": 3,
     "metadata": {},
     "output_type": "execute_result"
    }
   ],
   "source": [
    "x"
   ]
  },
  {
   "cell_type": "code",
   "execution_count": 4,
   "id": "49bb9e4e",
   "metadata": {},
   "outputs": [
    {
     "data": {
      "text/plain": [
       "7"
      ]
     },
     "execution_count": 4,
     "metadata": {},
     "output_type": "execute_result"
    }
   ],
   "source": [
    "N = len(x)\n",
    "N"
   ]
  },
  {
   "cell_type": "code",
   "execution_count": 5,
   "id": "8050837c",
   "metadata": {},
   "outputs": [
    {
     "data": {
      "text/plain": [
       "4.217142857142856"
      ]
     },
     "execution_count": 5,
     "metadata": {},
     "output_type": "execute_result"
    }
   ],
   "source": [
    "sample_mean = np.sum(x) / N\n",
    "sample_mean"
   ]
  },
  {
   "cell_type": "code",
   "execution_count": 6,
   "id": "0b9c60bc",
   "metadata": {},
   "outputs": [
    {
     "data": {
      "text/plain": [
       "5.8129918367346916"
      ]
     },
     "execution_count": 6,
     "metadata": {},
     "output_type": "execute_result"
    }
   ],
   "source": [
    "sample_var = np.sum((x - sample_mean) ** 2) / N\n",
    "sample_var"
   ]
  },
  {
   "cell_type": "code",
   "execution_count": 7,
   "id": "3970f4e1",
   "metadata": {},
   "outputs": [
    {
     "data": {
      "text/plain": [
       "2.4110146902776624"
      ]
     },
     "execution_count": 7,
     "metadata": {},
     "output_type": "execute_result"
    }
   ],
   "source": [
    "sample_std = np.sqrt(sample_var)\n",
    "sample_std"
   ]
  },
  {
   "cell_type": "markdown",
   "id": "6f7e1b34",
   "metadata": {},
   "source": [
    "# Fit the data using a Gaussian distribution"
   ]
  },
  {
   "cell_type": "code",
   "execution_count": 8,
   "id": "81186034-4bee-4025-a620-756251455472",
   "metadata": {},
   "outputs": [],
   "source": [
    "mu = 4.2\n",
    "sigma = 1.5"
   ]
  },
  {
   "cell_type": "code",
   "execution_count": 9,
   "id": "349a46ae-584f-4940-86a5-df5a14a90f51",
   "metadata": {},
   "outputs": [
    {
     "data": {
      "text/plain": [
       "array([-3.2191592 , -2.70220364, -1.90760364, -1.35162586, -1.5207592 ,\n",
       "       -2.87320364, -4.7391592 ])"
      ]
     },
     "execution_count": 9,
     "metadata": {},
     "output_type": "execute_result"
    }
   ],
   "source": [
    "norm.logpdf(x, loc=mu, scale=sigma)  # log-likelihood for each data point"
   ]
  },
  {
   "cell_type": "code",
   "execution_count": 10,
   "id": "45a0e4f3",
   "metadata": {},
   "outputs": [
    {
     "data": {
      "text/plain": [
       "-18.313714378078746"
      ]
     },
     "execution_count": 10,
     "metadata": {},
     "output_type": "execute_result"
    }
   ],
   "source": [
    "np.sum(norm.logpdf(x, loc=mu, scale=sigma))  # log-likelihood of the entire dataset"
   ]
  },
  {
   "cell_type": "code",
   "execution_count": 11,
   "id": "a4a5e4e4-a509-41ec-af7f-5d3808bb5d4a",
   "metadata": {},
   "outputs": [],
   "source": [
    "def log_likelihood(mu, sigma):\n",
    "    return np.sum(norm.logpdf(x, loc=mu, scale=sigma))"
   ]
  },
  {
   "cell_type": "code",
   "execution_count": 12,
   "id": "2ba2d2d1-3d58-4771-b253-de01b8c3f91e",
   "metadata": {},
   "outputs": [
    {
     "data": {
      "text/plain": [
       "-31.9630697324327"
      ]
     },
     "execution_count": 12,
     "metadata": {},
     "output_type": "execute_result"
    }
   ],
   "source": [
    "log_likelihood(3., 1.0)"
   ]
  },
  {
   "cell_type": "code",
   "execution_count": 13,
   "id": "b55e45e5",
   "metadata": {},
   "outputs": [],
   "source": [
    "x_grid = np.linspace(0, 10, 100)"
   ]
  },
  {
   "cell_type": "code",
   "execution_count": 14,
   "id": "feeb7b0f",
   "metadata": {},
   "outputs": [],
   "source": [
    "p_grid = norm.pdf(x_grid, loc=mu, scale=sigma)"
   ]
  },
  {
   "cell_type": "code",
   "execution_count": 15,
   "id": "5b22fa62",
   "metadata": {},
   "outputs": [],
   "source": [
    "p = norm.pdf(x, loc=mu, scale=sigma) "
   ]
  },
  {
   "cell_type": "code",
   "execution_count": 16,
   "id": "34889f06",
   "metadata": {},
   "outputs": [],
   "source": [
    "ll = log_likelihood(mu, sigma)"
   ]
  },
  {
   "cell_type": "code",
   "execution_count": 17,
   "id": "26fd7766",
   "metadata": {},
   "outputs": [
    {
     "data": {
      "image/png": "[encoded data removed]",
      "text/plain": [
       "<Figure size 600x400 with 1 Axes>"
      ]
     },
     "metadata": {},
     "output_type": "display_data"
    }
   ],
   "source": [
    "plt.figure(figsize=(6, 4))\n",
    "plt.plot(x, np.zeros_like(x), 'ko')\n",
    "plt.plot(x, p, 'bo')\n",
    "plt.plot(x_grid, p_grid, 'r')\n",
    "for xx, pp in zip(x, p):\n",
    "    plt.vlines(x=xx, ymin=0, ymax=pp, color='g')\n",
    "plt.hlines(y=0, xmin=0, xmax=10, color='k')\n",
    "plt.xlabel('x', fontsize=14)\n",
    "plt.ylabel('p(x)', fontsize=14)\n",
    "plt.ylim(-0.01, 0.4)\n",
    "plt.xticks([])\n",
    "plt.yticks([])\n",
    "plt.show()"
   ]
  },
  {
   "cell_type": "code",
   "execution_count": 18,
   "id": "80752d83",
   "metadata": {},
   "outputs": [],
   "source": [
    "def plot_results(mu, sigma):\n",
    "    ll = log_likelihood(mu, sigma)\n",
    "    p = norm.pdf(x, loc=mu, scale=sigma) \n",
    "    x_grid = np.linspace(0, 10, 100)\n",
    "    p_grid = norm.pdf(x_grid, loc=mu, scale=sigma)\n",
    "    \n",
    "    plt.plot(x, np.zeros_like(x), 'ko')\n",
    "    plt.plot(x, p, 'bo')\n",
    "    plt.plot(x_grid, p_grid, 'r')\n",
    "    for xx, pp in zip(x, p):\n",
    "        plt.vlines(x=xx, ymin=0, ymax=pp, color='g')\n",
    "    plt.hlines(y=0, xmin=0, xmax=10, color='k')\n",
    "    plt.xlabel('x', fontsize=14)\n",
    "    plt.ylabel('p(x)', fontsize=14)\n",
    "    plt.title(f'Log likelihood: {ll:.4f}')\n",
    "    plt.ylim(-0.02, 0.4)\n",
    "    plt.show()"
   ]
  },
  {
   "cell_type": "code",
   "execution_count": 19,
   "id": "27029db7",
   "metadata": {},
   "outputs": [
    {
     "data": {
      "application/vnd.jupyter.widget-view+json": {
       "model_id": "0cee84859f6d4a93bef6aa9103e5cdf4",
       "version_major": 2,
       "version_minor": 0
      },
      "text/plain": [
       "interactive(children=(FloatSlider(value=5.0, description='mu', max=10.0, step=0.01), FloatSlider(value=2.25, d…"
      ]
     },
     "metadata": {},
     "output_type": "display_data"
    }
   ],
   "source": [
    "interact(\n",
    "    plot_results,\n",
    "    mu = (0, 10, 0.01),\n",
    "    sigma = (0.5, 4.0, 0.01),\n",
    ");"
   ]
  }
 ],
 "metadata": {
  "kernelspec": {
   "display_name": "Python 3 (ipykernel)",
   "language": "python",
   "name": "python3"
  },
  "language_info": {
   "codemirror_mode": {
    "name": "ipython",
    "version": 3
   },
   "file_extension": ".py",
   "mimetype": "text/x-python",
   "name": "python",
   "nbconvert_exporter": "python",
   "pygments_lexer": "ipython3",
   "version": "3.10.11"
  }
 },
 "nbformat": 4,
 "nbformat_minor": 5
}
