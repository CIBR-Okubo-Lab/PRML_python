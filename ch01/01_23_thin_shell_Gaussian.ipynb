{
 "cells": [
  {
   "cell_type": "code",
   "execution_count": 1,
   "id": "b6ae3d96-d069-44c2-bc4c-0b5ed517753b",
   "metadata": {},
   "outputs": [],
   "source": [
    "import matplotlib.pyplot as plt\n",
    "import numpy as np\n",
    "from numpy.linalg import norm\n",
    "from numpy.random import multivariate_normal\n",
    "from sklearn.neighbors import KernelDensity"
   ]
  },
  {
   "cell_type": "code",
   "execution_count": 2,
   "id": "7fcc6c52-f48b-4dd4-b9b8-f2bc1680e734",
   "metadata": {},
   "outputs": [],
   "source": [
    "D = 20"
   ]
  },
  {
   "cell_type": "code",
   "execution_count": 3,
   "id": "7c0a2f51-54ee-4d1c-8fdd-cc38eba8e269",
   "metadata": {},
   "outputs": [],
   "source": [
    "sigma = 0.25"
   ]
  },
  {
   "cell_type": "code",
   "execution_count": 4,
   "id": "6e6e3f65-f7fd-4a91-8dcb-e00a2dd54cfe",
   "metadata": {},
   "outputs": [],
   "source": [
    "mu = np.zeros(D)\n",
    "S = sigma * np.eye(D)"
   ]
  },
  {
   "cell_type": "code",
   "execution_count": 5,
   "id": "67e7be83-91a7-46e8-ab07-89c33aaeae9b",
   "metadata": {},
   "outputs": [],
   "source": [
    "r_plot = np.linspace(0.0, 4.0, 1000)"
   ]
  },
  {
   "cell_type": "code",
   "execution_count": 6,
   "id": "a4fef11e-0342-4a36-887b-d56b2b65412b",
   "metadata": {},
   "outputs": [],
   "source": [
    "x = multivariate_normal(mean=mu, cov=S, size=100000)"
   ]
  },
  {
   "cell_type": "code",
   "execution_count": 7,
   "id": "a8b5690f-5e6d-4cac-8664-5da8faa8fbd2",
   "metadata": {},
   "outputs": [],
   "source": [
    "r = norm(x, ord=2, axis=1)  # calculate the radius"
   ]
  },
  {
   "cell_type": "code",
   "execution_count": 8,
   "id": "5d422b12-34fe-4e4c-8684-10447fcad28c",
   "metadata": {},
   "outputs": [],
   "source": [
    "kde = KernelDensity(kernel=\"gaussian\", bandwidth=0.1).fit(r.reshape(-1, 1))"
   ]
  },
  {
   "cell_type": "code",
   "execution_count": 9,
   "id": "94d635d8-3898-452c-aa2c-93b60d297706",
   "metadata": {},
   "outputs": [],
   "source": [
    "log_likelihood = kde.score_samples(r_plot.reshape(-1, 1))\n",
    "pdf_kde = np.exp(log_likelihood)"
   ]
  },
  {
   "cell_type": "code",
   "execution_count": 10,
   "id": "a593c078-bb9f-439e-95c6-1ddef6f88904",
   "metadata": {},
   "outputs": [],
   "source": [
    "cnts, bins = np.histogram(r, bins=np.arange(0.0, 4.0, 0.1))"
   ]
  },
  {
   "cell_type": "code",
   "execution_count": 11,
   "id": "d0a8ec64-b23a-4799-9640-c0f7af606a4e",
   "metadata": {},
   "outputs": [],
   "source": [
    "pdf_hist = cnts / len(r) / np.median(np.diff(bins))"
   ]
  },
  {
   "cell_type": "code",
   "execution_count": 12,
   "id": "14e151d4-4cec-422c-aefb-dcc16b6d6c1e",
   "metadata": {},
   "outputs": [],
   "source": [
    "def r_dist(D, KDE=True, n_samples=500_000):\n",
    "    \"\"\"\n",
    "    Args:\n",
    "        D (int): dimension of the Gaussian\n",
    "        KDE (bool): use kernel density estimation\n",
    "        n_samples (int): number of samples to generate (reduce the number when using KDE)\n",
    "    \n",
    "    Returns:\n",
    "        rr (np.array, float): r values for plotting\n",
    "        pdf (np.array, float): probability density function\n",
    "    \"\"\"\n",
    "    mu = np.zeros(D)\n",
    "    S = sigma * np.eye(D)\n",
    "    x = multivariate_normal(mean=mu, cov=S, size=n_samples)\n",
    "    r = norm(x, ord=2, axis=1)  # calculate the radius\n",
    "    \n",
    "    if KDE:\n",
    "        kde = KernelDensity(kernel=\"gaussian\", bandwidth=0.05).fit(r.reshape(-1, 1))\n",
    "        log_likelihood = kde.score_samples(r_plot.reshape(-1, 1))\n",
    "        pdf = np.exp(log_likelihood)\n",
    "        rr = r_plot\n",
    "    else:\n",
    "        cnts, bins = np.histogram(r, bins=np.linspace(0.0, 4.0, 60))\n",
    "        pdf = cnts / len(r) / np.median(np.diff(bins))\n",
    "        rr = (bins[:-1] + bins[1:]) / 2\n",
    "    \n",
    "    return rr, pdf"
   ]
  },
  {
   "cell_type": "code",
   "execution_count": 13,
   "id": "86d06a95-4a2d-4c94-90ac-64162545facb",
   "metadata": {},
   "outputs": [],
   "source": [
    "D_list = [1, 2, 20]"
   ]
  },
  {
   "cell_type": "code",
   "execution_count": 14,
   "id": "6164deb0-2310-43de-992b-31f5c8ebd37a",
   "metadata": {},
   "outputs": [],
   "source": [
    "color_list = ['r', 'g', 'b']\n",
    "pos_list = [(0.3, 1.5), (0.8, 1.0), (2.6, 0.8)]"
   ]
  },
  {
   "cell_type": "code",
   "execution_count": 16,
   "id": "50f1a1fb-4368-428d-827e-044032e1d467",
   "metadata": {},
   "outputs": [
    {
     "data": {
      "image/png": "[encoded data removed]",
      "text/plain": [
       "<Figure size 600x400 with 1 Axes>"
      ]
     },
     "metadata": {},
     "output_type": "display_data"
    }
   ],
   "source": [
    "plt.figure(figsize=(6, 4))\n",
    "\n",
    "for D, color, pos in zip(D_list, color_list, pos_list):\n",
    "    rr, pdf = r_dist(D, KDE=True, n_samples=10_000)\n",
    "    plt.plot(rr, pdf, c=color)\n",
    "    plt.text(*pos, f'D = {D}', c=color, fontsize=12)\n",
    "\n",
    "plt.xlim(0, 4)\n",
    "plt.ylim(0, 2)\n",
    "plt.xticks(np.arange(0, 5, 2))\n",
    "plt.yticks(np.arange(0, 2.5, 1.0))\n",
    "plt.xlabel('r', fontsize=14)\n",
    "plt.ylabel('p(r)', fontsize=14)\n",
    "plt.show()"
   ]
  }
 ],
 "metadata": {
  "kernelspec": {
   "display_name": "Python 3 (ipykernel)",
   "language": "python",
   "name": "python3"
  },
  "language_info": {
   "codemirror_mode": {
    "name": "ipython",
    "version": 3
   },
   "file_extension": ".py",
   "mimetype": "text/x-python",
   "name": "python",
   "nbconvert_exporter": "python",
   "pygments_lexer": "ipython3",
   "version": "3.10.11"
  }
 },
 "nbformat": 4,
 "nbformat_minor": 5
}
