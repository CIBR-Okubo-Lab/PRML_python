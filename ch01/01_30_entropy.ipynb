{
 "cells": [
  {
   "cell_type": "markdown",
   "id": "a40d19ff-a1c6-4897-80a7-f4e1cc9d0b88",
   "metadata": {},
   "source": [
    "# 1.6 Information theory"
   ]
  },
  {
   "cell_type": "code",
   "execution_count": 1,
   "id": "b30bbfc5-f91c-4ca6-93fb-d6dde5c04cd0",
   "metadata": {},
   "outputs": [],
   "source": [
    "import matplotlib.pyplot as plt\n",
    "import numpy as np"
   ]
  },
  {
   "cell_type": "code",
   "execution_count": 2,
   "id": "0a80e448-e999-4b03-9e6d-77814b3b0709",
   "metadata": {},
   "outputs": [],
   "source": [
    "N = 30  # number of bins\n",
    "x = np.arange(0, N, 1)"
   ]
  },
  {
   "cell_type": "code",
   "execution_count": 3,
   "id": "7198375f-4738-4093-9a34-c9a47c1c88fd",
   "metadata": {},
   "outputs": [],
   "source": [
    "def make_dist(x, mu, sigma):\n",
    "    \"\"\"\n",
    "    Args:\n",
    "        x (np.array, float64): input values\n",
    "        mu (float64): mean of the Gaussian\n",
    "        sigma (float64): width of the Gaussian\n",
    "    Returns:\n",
    "        p (np.array, float64): probability mass function over x\n",
    "        H (float64): entropy\n",
    "    \"\"\"\n",
    "    p = np.exp(- (x - mu) ** 2 / (2 * sigma ** 2))  # Gaussian shape\n",
    "    p = p / p.sum()  # normalize\n",
    "    \n",
    "    H = - np.sum(p * np.log(p))  # entropy\n",
    "    \n",
    "    return p, H"
   ]
  },
  {
   "cell_type": "code",
   "execution_count": 4,
   "id": "262c0e9f-8302-478c-a9ca-475a6a02be4b",
   "metadata": {},
   "outputs": [],
   "source": [
    "p1, H1 = make_dist(x, mu=15, sigma=1.42)\n",
    "p2, H2 = make_dist(x, mu=15, sigma=5.5)"
   ]
  },
  {
   "cell_type": "code",
   "execution_count": 5,
   "id": "f6cc9e7e-4317-4a61-a876-b3a5313cc107",
   "metadata": {},
   "outputs": [],
   "source": [
    "def plot_dist(x, p, H, ax):\n",
    "    ax.bar(x, p, width=1, edgecolor='k')\n",
    "    ax.text(x=15, y=0.4, s=f'H = {H:.2f}', fontsize=12)\n",
    "    ax.set_xlim(0, 30)\n",
    "    ax.set_ylim(0, 0.5)\n",
    "    ax.set_xticks([])\n",
    "    ax.set_yticks([0, 0.25, 0.5])\n",
    "    ax.set_ylabel('probabilities', fontsize=12)"
   ]
  },
  {
   "cell_type": "code",
   "execution_count": 6,
   "id": "ad91dbf4-7ce1-4bc4-b896-c0fb0597d839",
   "metadata": {},
   "outputs": [
    {
     "data": {
      "image/png": "[encoded data removed]",
      "text/plain": [
       "<Figure size 1200x450 with 2 Axes>"
      ]
     },
     "metadata": {},
     "output_type": "display_data"
    }
   ],
   "source": [
    "fig, ax = plt.subplots(1, 2, figsize=(12, 4.5), sharey=True)\n",
    "plot_dist(x, p1, H1, ax[0])\n",
    "plot_dist(x, p2, H2, ax[1])"
   ]
  }
 ],
 "metadata": {
  "kernelspec": {
   "display_name": "Python 3 (ipykernel)",
   "language": "python",
   "name": "python3"
  },
  "language_info": {
   "codemirror_mode": {
    "name": "ipython",
    "version": 3
   },
   "file_extension": ".py",
   "mimetype": "text/x-python",
   "name": "python",
   "nbconvert_exporter": "python",
   "pygments_lexer": "ipython3",
   "version": "3.10.11"
  }
 },
 "nbformat": 4,
 "nbformat_minor": 5
}
