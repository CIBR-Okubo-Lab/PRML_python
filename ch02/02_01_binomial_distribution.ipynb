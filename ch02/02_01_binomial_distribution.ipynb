{
 "cells": [
  {
   "cell_type": "markdown",
   "id": "79beb3f8-b64d-4ab6-9cea-519fabc5dfef",
   "metadata": {},
   "source": [
    "Figure 2.1 An example of a binomial distribution"
   ]
  },
  {
   "cell_type": "code",
   "execution_count": 1,
   "id": "37d46dbf-7573-43e1-80d6-2e2a151ca453",
   "metadata": {},
   "outputs": [],
   "source": [
    "import matplotlib.pyplot as plt\n",
    "import numpy as np\n",
    "from scipy.stats import binom"
   ]
  },
  {
   "cell_type": "code",
   "execution_count": 2,
   "id": "a256a9e8-a788-444f-95fd-4c4959afae32",
   "metadata": {},
   "outputs": [],
   "source": [
    "N = 10  # total number of trials\n",
    "mu = 0.25"
   ]
  },
  {
   "cell_type": "code",
   "execution_count": 3,
   "id": "3b652662-e33d-4662-ac4c-06ff92c2508b",
   "metadata": {},
   "outputs": [],
   "source": [
    "m = np.arange(0, 11, 1)"
   ]
  },
  {
   "cell_type": "code",
   "execution_count": 4,
   "id": "fd807e7e-0901-45c9-8a13-e7a707deed2c",
   "metadata": {},
   "outputs": [
    {
     "data": {
      "image/png": "[encoded data removed]",
      "text/plain": [
       "<Figure size 600x300 with 1 Axes>"
      ]
     },
     "metadata": {},
     "output_type": "display_data"
    }
   ],
   "source": [
    "fig, ax = plt.subplots(figsize=(6, 3))\n",
    "ax.bar(m, binom.pmf(m, N, mu), color='darkblue')\n",
    "ax.set_xlim(-0.5, 10.5)\n",
    "ax.set_xticks(np.arange(0, 11, 1))\n",
    "ax.set_yticks(np.arange(0, 0.4, 0.1))\n",
    "ax.set_xlabel('m')\n",
    "ax.tick_params(direction='in', which='both', right=True, top=True)\n",
    "plt.show()"
   ]
  }
 ],
 "metadata": {
  "kernelspec": {
   "display_name": "Python 3 (ipykernel)",
   "language": "python",
   "name": "python3"
  },
  "language_info": {
   "codemirror_mode": {
    "name": "ipython",
    "version": 3
   },
   "file_extension": ".py",
   "mimetype": "text/x-python",
   "name": "python",
   "nbconvert_exporter": "python",
   "pygments_lexer": "ipython3",
   "version": "3.10.11"
  }
 },
 "nbformat": 4,
 "nbformat_minor": 5
}
