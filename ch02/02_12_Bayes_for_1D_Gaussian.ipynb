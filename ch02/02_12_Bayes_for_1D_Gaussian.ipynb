{
 "cells": [
  {
   "cell_type": "markdown",
   "id": "163390ef-88a4-4d5a-9322-d3dd8211e4fe",
   "metadata": {},
   "source": [
    "Reproduce Figure 2.12. Bayesian inference for the mean $\\mu$ of a single Gaussian."
   ]
  },
  {
   "cell_type": "code",
   "execution_count": 1,
   "id": "c9160fc5-e7f9-44f1-8145-1f915041885d",
   "metadata": {},
   "outputs": [],
   "source": [
    "import matplotlib.pyplot as plt\n",
    "import numpy as np\n",
    "from scipy.stats import norm"
   ]
  },
  {
   "cell_type": "code",
   "execution_count": 2,
   "id": "fbee29ee-9c56-463b-a04c-1c2f7de011cc",
   "metadata": {},
   "outputs": [],
   "source": [
    "np.random.seed(42)"
   ]
  },
  {
   "cell_type": "code",
   "execution_count": 3,
   "id": "5f77ec1b-768c-4b29-af67-c4ebd372fca0",
   "metadata": {},
   "outputs": [],
   "source": [
    "var = 0.1  # assumed that the variance is known\n",
    "var_0 = 0.1  # prior variance\n",
    "\n",
    "mu_0 = 0.0  # prior mean"
   ]
  },
  {
   "cell_type": "code",
   "execution_count": 4,
   "id": "287ed9f7-0f1e-4c1e-b689-fdbddd43bb28",
   "metadata": {},
   "outputs": [],
   "source": [
    "xx = np.linspace(-1, 1, 200)"
   ]
  },
  {
   "cell_type": "code",
   "execution_count": 5,
   "id": "c90debb2-7b7b-4572-9e03-7e2863ee8272",
   "metadata": {},
   "outputs": [],
   "source": [
    "likelihood = norm(loc=0.8, scale=0.1)"
   ]
  },
  {
   "cell_type": "code",
   "execution_count": 6,
   "id": "d11dc8e1-a4a0-4b99-bf9f-f1b5d24ebec3",
   "metadata": {},
   "outputs": [],
   "source": [
    "y_0 = norm(loc=0, scale=np.sqrt(var_0)) "
   ]
  },
  {
   "cell_type": "code",
   "execution_count": 7,
   "id": "68b7dc34-576a-4968-b31b-a4fc28b65827",
   "metadata": {},
   "outputs": [],
   "source": [
    "yy_0 = y_0.pdf(xx)"
   ]
  },
  {
   "cell_type": "markdown",
   "id": "59402f76-6980-4fba-910a-ca0554851d71",
   "metadata": {},
   "source": [
    "# N = 1"
   ]
  },
  {
   "cell_type": "code",
   "execution_count": 8,
   "id": "ed62be3d-43e4-465c-8c4b-16bdf748cbc5",
   "metadata": {},
   "outputs": [],
   "source": [
    "x_1 = np.array([1.08])  # inferred from the plot"
   ]
  },
  {
   "cell_type": "code",
   "execution_count": 9,
   "id": "0ac3e1d6-ab83-446c-9a57-15f4f6afe004",
   "metadata": {},
   "outputs": [],
   "source": [
    "def calculate_posterior(x, mu_0, var_0):\n",
    "    \"\"\"calculate the posterior distribution\n",
    "    \n",
    "    Args:\n",
    "        x (np.array): observed data\n",
    "        mu_0 (float): prior mean\n",
    "        var_0 (float): prior variance\n",
    "        \n",
    "    Returns:\n",
    "        mu_N (float): posterior mean\n",
    "        var_N (float): posterior variance\n",
    "    \"\"\"\n",
    "    N = len(x)\n",
    "    mu_ML = np.mean(x)  # ML estimate of the mean is the sample mean (2.143)\n",
    "    mu_N = (var / (N * var_0 + var)) * mu_0 + ((N * var_0) / (N * var_0 + var)) * mu_ML  # (2.141)\n",
    "    pre_N = (1. / var_0) + (N / var)  # precision (2.142)\n",
    "    var_N = 1. / pre_N  # variance is the inverse of precision\n",
    "    \n",
    "    return mu_N, var_N"
   ]
  },
  {
   "cell_type": "code",
   "execution_count": 10,
   "id": "bbd76b84-56f2-465a-a069-4be1670fbdcc",
   "metadata": {},
   "outputs": [],
   "source": [
    "mu_1, var_1 = calculate_posterior(x_1, mu_0, var_0)"
   ]
  },
  {
   "cell_type": "code",
   "execution_count": 11,
   "id": "bd1f5e51-6454-4918-a439-dffa7dcccaaf",
   "metadata": {},
   "outputs": [],
   "source": [
    "y_1 = norm(loc=mu_1, scale=np.sqrt(var_1)) "
   ]
  },
  {
   "cell_type": "code",
   "execution_count": 12,
   "id": "ca84c131-f79d-4683-8a37-f82765033ab0",
   "metadata": {},
   "outputs": [],
   "source": [
    "yy_1 = y_1.pdf(xx)"
   ]
  },
  {
   "cell_type": "markdown",
   "id": "69868780-7d59-405d-bd6c-d5b699b3ca75",
   "metadata": {},
   "source": [
    "# N = 2"
   ]
  },
  {
   "cell_type": "code",
   "execution_count": 13,
   "id": "90deca33-7d77-4aef-ad38-c68b7edabbeb",
   "metadata": {},
   "outputs": [],
   "source": [
    "x_2 = np.array([1.08, 0.84])"
   ]
  },
  {
   "cell_type": "code",
   "execution_count": 14,
   "id": "7a26222f-129d-4b99-9a57-1dc86e820106",
   "metadata": {},
   "outputs": [],
   "source": [
    "mu_2, var_2 = calculate_posterior(x_2, mu_0, var_0)"
   ]
  },
  {
   "cell_type": "code",
   "execution_count": 15,
   "id": "2694c19b-5980-49cb-a99b-3b53eafdc3f0",
   "metadata": {},
   "outputs": [],
   "source": [
    "y_2 = norm(loc=mu_2, scale=np.sqrt(var_2)) "
   ]
  },
  {
   "cell_type": "code",
   "execution_count": 16,
   "id": "d101ae4e-d17b-4263-8621-e405ec1d8191",
   "metadata": {},
   "outputs": [],
   "source": [
    "yy_2 = y_2.pdf(xx)"
   ]
  },
  {
   "cell_type": "markdown",
   "id": "6d5f26f7-66b6-40d8-bd5f-d917fc47786d",
   "metadata": {},
   "source": [
    "# N = 10"
   ]
  },
  {
   "cell_type": "code",
   "execution_count": 17,
   "id": "822f5f30-1303-4939-bb3a-61587de33ab7",
   "metadata": {},
   "outputs": [],
   "source": [
    "N = 10\n",
    "x = likelihood.rvs(size=(N, ))"
   ]
  },
  {
   "cell_type": "code",
   "execution_count": 18,
   "id": "1e1303d4-0657-4af8-a579-24225b7e4298",
   "metadata": {},
   "outputs": [],
   "source": [
    "np.set_printoptions(precision=3)"
   ]
  },
  {
   "cell_type": "code",
   "execution_count": 19,
   "id": "f05a8f3c-6e24-4b1b-95ad-c57e71126c08",
   "metadata": {},
   "outputs": [
    {
     "data": {
      "text/plain": [
       "array([0.85 , 0.786, 0.865, 0.952, 0.777, 0.777, 0.958, 0.877, 0.753,\n",
       "       0.854])"
      ]
     },
     "execution_count": 19,
     "metadata": {},
     "output_type": "execute_result"
    }
   ],
   "source": [
    "x"
   ]
  },
  {
   "cell_type": "code",
   "execution_count": 20,
   "id": "a1100563-1e5b-46b0-a838-fcf5681d4c32",
   "metadata": {},
   "outputs": [],
   "source": [
    "mu_10, var_10 = calculate_posterior(x, mu_0, var_0)"
   ]
  },
  {
   "cell_type": "code",
   "execution_count": 21,
   "id": "d7f30755-fab3-4217-be8c-0b67f0812bb2",
   "metadata": {},
   "outputs": [],
   "source": [
    "y_10 = norm(loc=mu_10, scale=np.sqrt(var_10)) "
   ]
  },
  {
   "cell_type": "code",
   "execution_count": 22,
   "id": "9a49acdd-de16-415d-ac32-6a0033b6b919",
   "metadata": {},
   "outputs": [],
   "source": [
    "yy_10 = y_10.pdf(xx)"
   ]
  },
  {
   "cell_type": "code",
   "execution_count": 23,
   "id": "ed55542e-4d25-4918-8ab0-25bf39d8890c",
   "metadata": {},
   "outputs": [
    {
     "data": {
      "image/png": "[encoded data removed]",
      "text/plain": [
       "<Figure size 640x480 with 1 Axes>"
      ]
     },
     "metadata": {},
     "output_type": "display_data"
    }
   ],
   "source": [
    "plt.plot(xx, yy_0, 'k')\n",
    "plt.plot(xx, yy_1, 'g')\n",
    "plt.plot(xx, yy_2, 'b')\n",
    "plt.plot(xx, yy_10, 'r')\n",
    "plt.text(-0.7, 0.8, 'N = 0', fontsize=14,  color='k')\n",
    "plt.text(0.1, 1.4, 'N = 1', fontsize=14,  color='g')\n",
    "plt.text(0.2, 2.2, 'N = 2', fontsize=14,  color='b')\n",
    "plt.text(0.28, 3.5, 'N = 10', fontsize=14,  color='r')\n",
    "plt.xlim(-1, 1)\n",
    "plt.ylim(0, 5)\n",
    "plt.xticks([-1, 0, 1])\n",
    "plt.yticks([0, 5])\n",
    "plt.xlabel(r'$\\mu$', fontsize=14)\n",
    "plt.show()"
   ]
  }
 ],
 "metadata": {
  "kernelspec": {
   "display_name": "Python 3 (ipykernel)",
   "language": "python",
   "name": "python3"
  },
  "language_info": {
   "codemirror_mode": {
    "name": "ipython",
    "version": 3
   },
   "file_extension": ".py",
   "mimetype": "text/x-python",
   "name": "python",
   "nbconvert_exporter": "python",
   "pygments_lexer": "ipython3",
   "version": "3.10.11"
  }
 },
 "nbformat": 4,
 "nbformat_minor": 5
}
