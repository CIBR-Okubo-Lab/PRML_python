{
 "cells": [
  {
   "cell_type": "code",
   "execution_count": 1,
   "id": "003dd40a-7de1-4265-937d-4cea1eb48b66",
   "metadata": {},
   "outputs": [],
   "source": [
    "from ipywidgets import interact\n",
    "import matplotlib.pyplot as plt\n",
    "import numpy as np\n",
    "from scipy.stats import gamma"
   ]
  },
  {
   "cell_type": "markdown",
   "id": "3b8fdf51-682d-4895-864a-d80b8129e60c",
   "metadata": {},
   "source": [
    "Be careful with the parameterization: https://docs.scipy.org/doc/scipy/reference/generated/scipy.stats.gamma.html"
   ]
  },
  {
   "cell_type": "code",
   "execution_count": 2,
   "id": "4ac33a9f-51ab-4d85-896c-57c4db452f88",
   "metadata": {},
   "outputs": [],
   "source": [
    "def plot_gamma(a, b):\n",
    "    x = np.linspace(0, 2, 200)\n",
    "    g = gamma(a, scale=1./b)\n",
    "    mean = a / b  # (2.147)\n",
    "    mode = (a - 1) / b # Exercise 2.42\n",
    "    plt.plot(x, g.pdf(x), 'r')\n",
    "    plt.vlines(mean, ymin=0, ymax=2, color='b', linestyle=':')\n",
    "    plt.vlines(mode, ymin=0, ymax=2, color='g', linestyle=':')\n",
    "    plt.text(1.4, 1.8, f'mode = {mode:.2f}', fontsize=12, color='g')\n",
    "    plt.text(1.4, 1.6, f'mean = {mean:.2f}', fontsize=12, color='b')\n",
    "    plt.xlim(0, 2)\n",
    "    plt.ylim(0, 2)\n",
    "    plt.xticks([0, 1, 2])\n",
    "    plt.yticks([0, 1, 2])\n",
    "    plt.tick_params(direction='in', which='both', right=True, top=True)\n",
    "    plt.xlabel(r'$\\lambda$', fontsize=14)"
   ]
  },
  {
   "cell_type": "code",
   "execution_count": 3,
   "id": "b46c3099",
   "metadata": {},
   "outputs": [
    {
     "data": {
      "application/vnd.jupyter.widget-view+json": {
       "model_id": "e75ee14dc61148ceb2cb573e84e44535",
       "version_major": 2,
       "version_minor": 0
      },
      "text/plain": [
       "interactive(children=(FloatSlider(value=7.5, description='a', max=15.0, min=0.1), FloatSlider(value=7.5, descr…"
      ]
     },
     "metadata": {},
     "output_type": "display_data"
    }
   ],
   "source": [
    "interact(\n",
    "    plot_gamma,\n",
    "    a = (0.1, 15, 0.1),\n",
    "    b = (0.1, 15, 0.1),\n",
    ");"
   ]
  }
 ],
 "metadata": {
  "kernelspec": {
   "display_name": "Python 3 (ipykernel)",
   "language": "python",
   "name": "python3"
  },
  "language_info": {
   "codemirror_mode": {
    "name": "ipython",
    "version": 3
   },
   "file_extension": ".py",
   "mimetype": "text/x-python",
   "name": "python",
   "nbconvert_exporter": "python",
   "pygments_lexer": "ipython3",
   "version": "3.10.11"
  }
 },
 "nbformat": 4,
 "nbformat_minor": 5
}
