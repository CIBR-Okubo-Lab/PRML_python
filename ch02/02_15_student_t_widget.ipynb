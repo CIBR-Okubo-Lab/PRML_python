{
 "cells": [
  {
   "cell_type": "markdown",
   "id": "b4b8bc4c",
   "metadata": {},
   "source": [
    "Comparing Student's t-distribution with $\\mu=0$ amd $\\lambda=1$ for various values of the degrees of freedom $\\nu$."
   ]
  },
  {
   "cell_type": "code",
   "execution_count": 1,
   "id": "c10af2a6-ced2-497a-a987-2bb6ca92e931",
   "metadata": {},
   "outputs": [],
   "source": [
    "from ipywidgets import interact\n",
    "import matplotlib.pyplot as plt\n",
    "import numpy as np\n",
    "from scipy.stats import norm, t"
   ]
  },
  {
   "cell_type": "code",
   "execution_count": 2,
   "id": "fdcab8ca",
   "metadata": {},
   "outputs": [],
   "source": [
    "def plot_t(df=0.1):\n",
    "    x = np.linspace(-5, 5, 200)\n",
    "    p_norm = norm.pdf(x)\n",
    "    p = t.pdf(x, df=df)\n",
    "    \n",
    "    plt.figure(figsize=(6, 4))\n",
    "    plt.plot(x, p, 'r-', label=\"Student's t\")\n",
    "    plt.plot(x, p_norm, 'g:', label='Gaussian')\n",
    "    plt.xticks([-5, 0, 5])\n",
    "    plt.yticks(np.arange(0, 0.6, 0.1))\n",
    "    plt.xlim(-5, 5)\n",
    "    plt.ylim(0, 0.5)\n",
    "    plt.legend(loc='upper right', frameon=False)\n",
    "    plt.xlabel('x', fontsize=12)\n",
    "    plt.tick_params(labelsize=10, direction='in', which='both', right=True, top=True)"
   ]
  },
  {
   "cell_type": "code",
   "execution_count": 3,
   "id": "58fd9b5c",
   "metadata": {},
   "outputs": [
    {
     "data": {
      "application/vnd.jupyter.widget-view+json": {
       "model_id": "3097f401b5fb4fe5a65a2e6fed6ffd99",
       "version_major": 2,
       "version_minor": 0
      },
      "text/plain": [
       "interactive(children=(FloatSlider(value=0.1, description='df', max=15.0, min=0.1), Output()), _dom_classes=('w…"
      ]
     },
     "metadata": {},
     "output_type": "display_data"
    }
   ],
   "source": [
    "interact(\n",
    "    plot_t,\n",
    "    df = (0.1, 15, 0.1)\n",
    ");"
   ]
  }
 ],
 "metadata": {
  "kernelspec": {
   "display_name": "Python 3 (ipykernel)",
   "language": "python",
   "name": "python3"
  },
  "language_info": {
   "codemirror_mode": {
    "name": "ipython",
    "version": 3
   },
   "file_extension": ".py",
   "mimetype": "text/x-python",
   "name": "python",
   "nbconvert_exporter": "python",
   "pygments_lexer": "ipython3",
   "version": "3.10.11"
  }
 },
 "nbformat": 4,
 "nbformat_minor": 5
}
