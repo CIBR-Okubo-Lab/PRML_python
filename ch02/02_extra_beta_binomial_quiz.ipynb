{
 "cells": [
  {
   "cell_type": "markdown",
   "id": "bb56e844-73ba-4019-950a-4d8d5be846f0",
   "metadata": {},
   "source": [
    "Company X has recently obtained 3 datasets on coin flipping experiments (1: head, 0: tail). For each dataset, the manager wants to know the probability of getting a head if we flip this coin one more time. He asked 5 data scientists A-E and they all used Bernoulli distribution to model a single coin toss. However, four people analyzed the data differently (A is a frequentist, B-E are Bayesian). "
   ]
  },
  {
   "cell_type": "markdown",
   "id": "d967097a-4ed4-48ee-981f-955a56b83be4",
   "metadata": {},
   "source": [
    "- 5 data scientists\n",
    "    - A used maximum likelihood\n",
    "    - B used a uniform prior Beta(a=1, b=1)\n",
    "    - C used a broad prior Beta(a=2, b=2) as shown in Fig. 2.3\n",
    "    - D used a biased prior Beta(a=2, b=5)\n",
    "    - E used a narrow prior Beta(a=200, b=200)"
   ]
  },
  {
   "cell_type": "markdown",
   "id": "31d47d83-a42c-4484-889b-3e456037de9e",
   "metadata": {},
   "source": [
    "- 3 data sets\n",
    "    - dataset X = [1] (just a single trial with a head)\n",
    "    - dataset Y = [1, 1, 1] (three heads in a row)\n",
    "    - dataset Z = 100 trials with 80 tails"
   ]
  },
  {
   "cell_type": "markdown",
   "id": "ffdb8b13-e122-4993-bbff-d63f16cbc079",
   "metadata": {},
   "source": [
    "For each dataset, \n",
    "(1) Plot the posterior distribution over the parameter mu.\n",
    "(2) Calculate the probability of getting a head in the next trial. \n",
    "\n",
    "You can use any Python package as well as all the equations in the textbook."
   ]
  },
  {
   "cell_type": "code",
   "execution_count": 1,
   "id": "789e72dc-6c7e-4a60-8473-40468a50d164",
   "metadata": {},
   "outputs": [],
   "source": [
    "import matplotlib.pyplot as plt\n",
    "import numpy as np\n",
    "from scipy.stats import beta, binom\n",
    "from scipy.special import comb"
   ]
  },
  {
   "cell_type": "code",
   "execution_count": 2,
   "id": "42c78b14-006a-495a-a3dd-1f7d8b85faf7",
   "metadata": {},
   "outputs": [],
   "source": [
    "X = np.array([1])\n",
    "Y=  np.array([1, 1, 1])\n",
    "Z = np.array([1, 1, 1, 0, 1, 0, 1, 1, 1, 1, 1, 1, 1, 1, 1, 1, 0, 0, 1, 1, 0, 1, 1, 1, 1, 1, 1, 0, 1, 1, 1, 1, 1, 1, 0, 0, 1, 1, 1, 1,\n",
    "             1, 1, 1, 0, 1, 1, 1, 0, 1, 1, 1, 1, 1, 1, 0, 1, 1, 1, 0, 1, 1, 0, 1, 0, 1, 1, 1, 1, 1, 1, 1, 0, 1, 1, 1, 1, 1, 1, 1, 0,\n",
    "             0, 1, 1, 1, 1, 1, 1, 0, 1, 1, 0, 1, 1, 1, 1, 1, 1, 1, 1, 0])"
   ]
  },
  {
   "cell_type": "code",
   "execution_count": 3,
   "id": "983de620-20b8-4ed4-a130-541b79ec8395",
   "metadata": {},
   "outputs": [],
   "source": [
    "mu = np.linspace(0, 1, 100)"
   ]
  },
  {
   "cell_type": "markdown",
   "id": "4fcbb787-a22c-4c30-9335-d7f9c4586be0",
   "metadata": {
    "jp-MarkdownHeadingCollapsed": true,
    "tags": []
   },
   "source": [
    "# Data scientist A: maximum likelihood"
   ]
  },
  {
   "cell_type": "markdown",
   "id": "caf838e9-5054-4da7-ae48-1c1a09876b1b",
   "metadata": {},
   "source": [
    "## Data set X"
   ]
  },
  {
   "cell_type": "markdown",
   "id": "1c4d1bed-c661-41eb-b42f-a06b927fa159",
   "metadata": {},
   "source": [
    "Using (2.8) $\\mu_{ML} = 1$"
   ]
  },
  {
   "cell_type": "markdown",
   "id": "c1ca32c1-a23b-4463-8343-fb9f2bc5a6da",
   "metadata": {},
   "source": [
    "Using (2.1) $p(x=1|\\mu_{ML}) = 1$"
   ]
  },
  {
   "cell_type": "markdown",
   "id": "a58efa77-384d-4aad-945e-05b589d49a10",
   "metadata": {},
   "source": [
    "Thus, data scientist A predicts that the next coin toss will be heads with p=1 just from a single observation of a head. This demonstrates how maximum likelihood estimation can severely **over-fit** when the number of observation is small. This motivates the use of a Bayesian analysis that uses a prior distribution."
   ]
  },
  {
   "cell_type": "markdown",
   "id": "3cda6d0b-9ac7-465e-bf9b-aa098f7ce10f",
   "metadata": {},
   "source": [
    "## Data set Y"
   ]
  },
  {
   "cell_type": "markdown",
   "id": "b3853af5-d850-4ccc-ad24-c54f3935af5a",
   "metadata": {},
   "source": [
    "Using (2.8) $\\mu_{ML} = 3/3 = 1$"
   ]
  },
  {
   "cell_type": "markdown",
   "id": "cd751226-f770-44da-9f70-0b218a1de6f5",
   "metadata": {},
   "source": [
    "Using (2.1) $p(x=1|\\mu_{ML}) = 1$"
   ]
  },
  {
   "cell_type": "markdown",
   "id": "fb2ac29b-470c-4777-b0e3-d5d44ec46f50",
   "metadata": {},
   "source": [
    "Because all the three tosses are heads, data scientist A predicts that the next coin toss will be heads with p=1 again showing **over-fitting**."
   ]
  },
  {
   "cell_type": "markdown",
   "id": "5f31bf38-1773-4efa-a4fa-3c24194513ec",
   "metadata": {},
   "source": [
    "## Data set Z "
   ]
  },
  {
   "cell_type": "code",
   "execution_count": 4,
   "id": "908a2a21-18ab-43f6-967e-4f3538432f28",
   "metadata": {},
   "outputs": [
    {
     "data": {
      "text/plain": [
       "0.8"
      ]
     },
     "execution_count": 4,
     "metadata": {},
     "output_type": "execute_result"
    }
   ],
   "source": [
    "mu_ML = Z.sum() / len(Z)\n",
    "mu_ML"
   ]
  },
  {
   "cell_type": "markdown",
   "id": "b0842995-19ea-4e11-9e8f-84486e266e75",
   "metadata": {},
   "source": [
    "Using (2.8) $\\mu_{ML} = 0.8$"
   ]
  },
  {
   "cell_type": "markdown",
   "id": "fc720ef4-4623-468f-8df1-ed5bb3f34b03",
   "metadata": {},
   "source": [
    "Using (2.1) $p(x=1|\\mu_{ML}) = p(x=1|0.8) = 0.8$"
   ]
  },
  {
   "cell_type": "markdown",
   "id": "c0bbfcb9-8362-4778-bf73-7a415e2166c3",
   "metadata": {},
   "source": [
    "Once we have a lot of data, the tendency for maximum likelihood to over-fit is reduced."
   ]
  },
  {
   "cell_type": "markdown",
   "id": "f43c6d78-410b-4061-a567-bc43e504d8ef",
   "metadata": {},
   "source": [
    "## Defining useful functions for performing Bayesian analysis"
   ]
  },
  {
   "cell_type": "code",
   "execution_count": 5,
   "id": "9a375251-8f65-4846-8cde-9f415d3ce526",
   "metadata": {},
   "outputs": [],
   "source": [
    "def calculate_posterior(m, l, a, b):\n",
    "    \"\"\"perform Bayesian update of beta-binomial model\n",
    "    \n",
    "    Args:\n",
    "        m: observed number of heads\n",
    "        l: observed number of tails \n",
    "        a: effective number of heads in the prior\n",
    "        b: effective number of tails in the prior\n",
    "    \n",
    "    Returns:\n",
    "        posterior distribution\n",
    "    \"\"\"\n",
    "    return beta(m + a, l + b)"
   ]
  },
  {
   "cell_type": "code",
   "execution_count": 6,
   "id": "d6fd187c-f8bc-4b54-8cc3-a061165d2eac",
   "metadata": {},
   "outputs": [],
   "source": [
    "def predict(m, l, a, b):\n",
    "    \"\"\"calculates the probability of obtaining head\n",
    "    \n",
    "    Args:\n",
    "        m: observed number of heads\n",
    "        l: observed number of tails \n",
    "        a: effective number of heads in the prior\n",
    "        b: effective number of tails in the prior\n",
    "    \n",
    "    Returns:\n",
    "        p (float): \n",
    "    \"\"\"\n",
    "    p = (m + a) / (m + a + l + b)\n",
    "    print(f'Probability of next trial being head: p = {p:.3f}')\n",
    "    return p"
   ]
  },
  {
   "cell_type": "code",
   "execution_count": 7,
   "id": "31a9e3d2-fd82-4190-8504-b2f97c577108",
   "metadata": {},
   "outputs": [],
   "source": [
    "def plot_prior_posterior(prior, posterior, p):\n",
    "    MAX = np.max([np.max(prior.pdf(mu)), np.max(posterior.pdf(mu))])\n",
    "    fig, ax = plt.subplots(1, 2, figsize=(10, 2))\n",
    "    ax[0].plot(mu, prior.pdf(mu), 'r')\n",
    "    ax[0].set_xlim(0, 1)\n",
    "    ax[0].set_ylim(0, MAX * 1.1)\n",
    "    ax[0].set_xlabel(r'$\\mu$', fontsize=12)\n",
    "    ax[0].set_title('Prior')\n",
    "    \n",
    "    ax[1].plot(mu, posterior.pdf(mu), 'r')\n",
    "    ax[1].plot(p, posterior.pdf(p), 'bo')\n",
    "    ax[1].set_xlim(0, 1)\n",
    "    ax[1].set_ylim(0, MAX * 1.1)\n",
    "    ax[1].set_xlabel(r'$\\mu$', fontsize=12)\n",
    "    ax[1].set_title('Posterior')"
   ]
  },
  {
   "cell_type": "markdown",
   "id": "2c40bff7-e48f-4165-9e50-dfac0451c9fa",
   "metadata": {
    "tags": []
   },
   "source": [
    "# Data scientist B: uniform prior Beta(a=1, b=1)"
   ]
  },
  {
   "cell_type": "markdown",
   "id": "f3121df9-f63f-4595-9705-f731a5aba67b",
   "metadata": {},
   "source": [
    "## Data set X"
   ]
  },
  {
   "cell_type": "code",
   "execution_count": 8,
   "id": "0133f4d9-290c-4d2d-8cd3-40601d69bacd",
   "metadata": {},
   "outputs": [],
   "source": [
    "a = 1\n",
    "b = 1\n",
    "prior = beta(a, b)"
   ]
  },
  {
   "cell_type": "markdown",
   "id": "67bc84e2-05cd-47e3-ba19-a83a3fb8cb51",
   "metadata": {},
   "source": [
    "B will use Baeysian method, but does not have any prior belief on what $\\mu$ should be. Thus, B chooses a flat uniform prior."
   ]
  },
  {
   "cell_type": "code",
   "execution_count": 9,
   "id": "792d7fff-5194-4ee4-97bf-ab15a3d8e745",
   "metadata": {},
   "outputs": [],
   "source": [
    "m = 1\n",
    "l = 0"
   ]
  },
  {
   "cell_type": "code",
   "execution_count": 10,
   "id": "86ba4173-b982-4288-a74d-b53656d6fc41",
   "metadata": {},
   "outputs": [
    {
     "name": "stdout",
     "output_type": "stream",
     "text": [
      "Probability of next trial being head: p = 0.667\n"
     ]
    }
   ],
   "source": [
    "posterior = calculate_posterior(m, l, a, b)\n",
    "p = predict(m, l, a, b)"
   ]
  },
  {
   "cell_type": "code",
   "execution_count": 11,
   "id": "e153826e-32ad-49c3-8915-31aaaf65b78b",
   "metadata": {},
   "outputs": [
    {
     "data": {
      "image/png": "[encoded data removed]",
      "text/plain": [
       "<Figure size 1000x200 with 2 Axes>"
      ]
     },
     "metadata": {},
     "output_type": "display_data"
    }
   ],
   "source": [
    "plot_prior_posterior(prior, posterior, p)"
   ]
  },
  {
   "cell_type": "markdown",
   "id": "3c27de6a-bd2e-42d9-9086-1b8126129e81",
   "metadata": {},
   "source": [
    "After a single head, B's belief is updated, and the posterior has a higher probability for larger $\\mu$."
   ]
  },
  {
   "cell_type": "markdown",
   "id": "5ec454e8-7993-4784-9ec7-e7afd3042a51",
   "metadata": {},
   "source": [
    "## Data set Y"
   ]
  },
  {
   "cell_type": "code",
   "execution_count": 12,
   "id": "564f76b1-9d9b-46df-830f-0a358244d98b",
   "metadata": {},
   "outputs": [],
   "source": [
    "m = 3\n",
    "l = 0"
   ]
  },
  {
   "cell_type": "code",
   "execution_count": 13,
   "id": "0953a1da-0e11-45b9-a12f-5456e2524248",
   "metadata": {},
   "outputs": [
    {
     "name": "stdout",
     "output_type": "stream",
     "text": [
      "Probability of next trial being head: p = 0.800\n"
     ]
    }
   ],
   "source": [
    "posterior = calculate_posterior(m, l, a, b)\n",
    "p = predict(m, l, a, b)"
   ]
  },
  {
   "cell_type": "code",
   "execution_count": 14,
   "id": "1e45d569-df1c-440a-a5fd-5255ef714ee3",
   "metadata": {},
   "outputs": [
    {
     "data": {
      "image/png": "[encoded data removed]",
      "text/plain": [
       "<Figure size 1000x200 with 2 Axes>"
      ]
     },
     "metadata": {},
     "output_type": "display_data"
    }
   ],
   "source": [
    "plot_prior_posterior(prior, posterior, p)"
   ]
  },
  {
   "cell_type": "markdown",
   "id": "76b3cb08-6adb-4f76-b799-6f7d4499aba1",
   "metadata": {},
   "source": [
    "With 3 heads observed in a row, B's posterior has even higher values for larger $\\mu$."
   ]
  },
  {
   "cell_type": "markdown",
   "id": "03bb61c4-d5db-4f61-97f8-02013e560be4",
   "metadata": {},
   "source": [
    "## Data set Z"
   ]
  },
  {
   "cell_type": "code",
   "execution_count": 15,
   "id": "0ecf8c51-1089-46cb-83b6-1e6706bb52d1",
   "metadata": {},
   "outputs": [
    {
     "data": {
      "text/plain": [
       "(80, 20)"
      ]
     },
     "execution_count": 15,
     "metadata": {},
     "output_type": "execute_result"
    }
   ],
   "source": [
    "m = Z.sum()\n",
    "l = len(Z) - m\n",
    "m, l"
   ]
  },
  {
   "cell_type": "code",
   "execution_count": 16,
   "id": "eb715d7c-4b80-453f-86f0-9389b2632898",
   "metadata": {},
   "outputs": [
    {
     "name": "stdout",
     "output_type": "stream",
     "text": [
      "Probability of next trial being head: p = 0.794\n"
     ]
    }
   ],
   "source": [
    "posterior = calculate_posterior(m, l, a, b)\n",
    "p = predict(m, l, a, b)"
   ]
  },
  {
   "cell_type": "code",
   "execution_count": 17,
   "id": "7caa8a8f-51f4-46d4-9347-cbfa9be57118",
   "metadata": {},
   "outputs": [
    {
     "data": {
      "image/png": "[encoded data removed]",
      "text/plain": [
       "<Figure size 1000x200 with 2 Axes>"
      ]
     },
     "metadata": {},
     "output_type": "display_data"
    }
   ],
   "source": [
    "plot_prior_posterior(prior, posterior, p)"
   ]
  },
  {
   "cell_type": "markdown",
   "id": "d1330509-a42a-462d-a4ae-4362ec4b76d1",
   "metadata": {},
   "source": [
    "With 100 observations, now the posterior is narrow and is peaked around the observed head frequency of p=0.8."
   ]
  },
  {
   "cell_type": "markdown",
   "id": "1c184c2c-7739-4c75-8ced-f8153a75cace",
   "metadata": {
    "jp-MarkdownHeadingCollapsed": true,
    "tags": []
   },
   "source": [
    "# Data scientist C: broad prior Beta(a=2, b=2)"
   ]
  },
  {
   "cell_type": "markdown",
   "id": "0b13f833-6185-419e-b804-c65fa533a3ef",
   "metadata": {},
   "source": [
    "## Data set X"
   ]
  },
  {
   "cell_type": "code",
   "execution_count": 18,
   "id": "f4c242c3-050c-4a73-8b7a-43e967da1d34",
   "metadata": {},
   "outputs": [],
   "source": [
    "a = 2\n",
    "b = 2\n",
    "prior = beta(a, b)"
   ]
  },
  {
   "cell_type": "markdown",
   "id": "93383478-fda5-4e54-b8fe-0daae11df9ee",
   "metadata": {},
   "source": [
    "This describe B's belief that coins tend to be unbiased (p=0.5), but his belief is flexible enough that other possibilities are also taken into account. "
   ]
  },
  {
   "cell_type": "code",
   "execution_count": 19,
   "id": "206e0559-6aa5-4bba-a328-4f35c0e131a8",
   "metadata": {},
   "outputs": [],
   "source": [
    "m = 1\n",
    "l = 0"
   ]
  },
  {
   "cell_type": "code",
   "execution_count": 20,
   "id": "bc093c65-7a2d-4d7a-8e5b-ad64167ee1c7",
   "metadata": {},
   "outputs": [
    {
     "name": "stdout",
     "output_type": "stream",
     "text": [
      "Probability of next trial being head: p = 0.600\n"
     ]
    }
   ],
   "source": [
    "posterior = calculate_posterior(m, l, a, b)\n",
    "p = predict(m, l, a, b)"
   ]
  },
  {
   "cell_type": "code",
   "execution_count": 21,
   "id": "a24d65e0-93b0-468a-aea7-975035d7fc97",
   "metadata": {},
   "outputs": [
    {
     "data": {
      "image/png": "[encoded data removed]",
      "text/plain": [
       "<Figure size 1000x200 with 2 Axes>"
      ]
     },
     "metadata": {},
     "output_type": "display_data"
    }
   ],
   "source": [
    "plot_prior_posterior(prior, posterior, p)"
   ]
  },
  {
   "cell_type": "markdown",
   "id": "f77758bb-8095-437f-8bb2-cb26fcd55e1e",
   "metadata": {},
   "source": [
    "After a single head, B's belief is updated, and the posterior over $\\mu$ is shifted rightwards. "
   ]
  },
  {
   "cell_type": "markdown",
   "id": "a5bc369d-d581-4205-8f2a-a8606917c992",
   "metadata": {},
   "source": [
    "## Data set Y"
   ]
  },
  {
   "cell_type": "code",
   "execution_count": 22,
   "id": "28a8b1cd-ac58-40be-a02f-adb7b5f6a4e8",
   "metadata": {},
   "outputs": [],
   "source": [
    "m = 3\n",
    "l = 0"
   ]
  },
  {
   "cell_type": "code",
   "execution_count": 23,
   "id": "e04f01ee-5d66-4921-95c8-1dd93f39df07",
   "metadata": {},
   "outputs": [
    {
     "name": "stdout",
     "output_type": "stream",
     "text": [
      "Probability of next trial being head: p = 0.714\n"
     ]
    }
   ],
   "source": [
    "posterior = calculate_posterior(m, l, a, b)\n",
    "p = predict(m, l, a, b)"
   ]
  },
  {
   "cell_type": "code",
   "execution_count": 24,
   "id": "32375a18-cd6c-4a3c-9171-32397e43fd1a",
   "metadata": {},
   "outputs": [
    {
     "data": {
      "image/png": "[encoded data removed]",
      "text/plain": [
       "<Figure size 1000x200 with 2 Axes>"
      ]
     },
     "metadata": {},
     "output_type": "display_data"
    }
   ],
   "source": [
    "plot_prior_posterior(prior, posterior, p)"
   ]
  },
  {
   "cell_type": "markdown",
   "id": "6204a6c6-92af-462e-b6e8-cd54dbf3db8f",
   "metadata": {},
   "source": [
    "With 3 heads observed in a row, B's posterior over $\\mu$ is moved even further to the right."
   ]
  },
  {
   "cell_type": "markdown",
   "id": "51ee3eb0-2a32-4972-9fcb-777d2c859523",
   "metadata": {},
   "source": [
    "## Data set Z"
   ]
  },
  {
   "cell_type": "code",
   "execution_count": 25,
   "id": "f15a7e28-ed7c-4707-b433-c8f80a17610b",
   "metadata": {},
   "outputs": [
    {
     "data": {
      "text/plain": [
       "(80, 20)"
      ]
     },
     "execution_count": 25,
     "metadata": {},
     "output_type": "execute_result"
    }
   ],
   "source": [
    "m = Z.sum()\n",
    "l = len(Z) - m\n",
    "m, l"
   ]
  },
  {
   "cell_type": "code",
   "execution_count": 26,
   "id": "8e7cc1a2-432c-4a1c-b24d-81cfaea56d5d",
   "metadata": {},
   "outputs": [
    {
     "name": "stdout",
     "output_type": "stream",
     "text": [
      "Probability of next trial being head: p = 0.788\n"
     ]
    }
   ],
   "source": [
    "posterior = calculate_posterior(m, l, a, b)\n",
    "p = predict(m, l, a, b)"
   ]
  },
  {
   "cell_type": "code",
   "execution_count": 27,
   "id": "a0829240-95b2-4f27-80b2-ed1035c7dc69",
   "metadata": {},
   "outputs": [
    {
     "data": {
      "image/png": "[encoded data removed]",
      "text/plain": [
       "<Figure size 1000x200 with 2 Axes>"
      ]
     },
     "metadata": {},
     "output_type": "display_data"
    }
   ],
   "source": [
    "plot_prior_posterior(prior, posterior, p)"
   ]
  },
  {
   "cell_type": "markdown",
   "id": "b18b1af1-25cc-480f-84e3-2f58b609769c",
   "metadata": {},
   "source": [
    "With 100 observations, now the posterior is much narrower and is peaked around the observed head frequency of p=0.8."
   ]
  },
  {
   "cell_type": "markdown",
   "id": "b5bdf043-9160-44d8-8e97-4efbacbc5755",
   "metadata": {
    "jp-MarkdownHeadingCollapsed": true,
    "tags": []
   },
   "source": [
    "# Data scientist D: use a biased prior Beta(a=2, b=5)"
   ]
  },
  {
   "cell_type": "code",
   "execution_count": 28,
   "id": "a377c3d8-f8d0-4ae0-907e-db51ac692367",
   "metadata": {},
   "outputs": [],
   "source": [
    "a = 2\n",
    "b = 5\n",
    "prior = beta(a, b)"
   ]
  },
  {
   "cell_type": "markdown",
   "id": "3af00958-6895-4901-8956-79aad3aa9e3d",
   "metadata": {},
   "source": [
    "This describes D's prior belief that this coins is  more likely to result in a tail. "
   ]
  },
  {
   "cell_type": "markdown",
   "id": "8b0de4bf-4600-46ff-ae70-a580306ee844",
   "metadata": {},
   "source": [
    "## Data set X"
   ]
  },
  {
   "cell_type": "code",
   "execution_count": 29,
   "id": "d70b3aa7-aed0-4a18-b3f8-14dcae5e1c46",
   "metadata": {},
   "outputs": [],
   "source": [
    "m = 1\n",
    "l = 0"
   ]
  },
  {
   "cell_type": "code",
   "execution_count": 30,
   "id": "87baf3e1-eea4-4ee9-88d1-3909273ac6ea",
   "metadata": {},
   "outputs": [
    {
     "name": "stdout",
     "output_type": "stream",
     "text": [
      "Probability of next trial being head: p = 0.375\n"
     ]
    }
   ],
   "source": [
    "posterior = calculate_posterior(m, l, a, b)\n",
    "p = predict(m, l, a, b)"
   ]
  },
  {
   "cell_type": "code",
   "execution_count": 31,
   "id": "458cc350-4e47-4134-ba28-fdf47faabcf6",
   "metadata": {},
   "outputs": [
    {
     "data": {
      "image/png": "[encoded data removed]",
      "text/plain": [
       "<Figure size 1000x200 with 2 Axes>"
      ]
     },
     "metadata": {},
     "output_type": "display_data"
    }
   ],
   "source": [
    "plot_prior_posterior(prior, posterior, p)"
   ]
  },
  {
   "cell_type": "markdown",
   "id": "39002e07-5a3b-4aa1-8f29-03d124f82207",
   "metadata": {},
   "source": [
    "With one head, D's posterior over $\\mu$ moves slightly rightward, but C's predicts that the next toss is more likely to be tail than head, as C is still influenced by his prior."
   ]
  },
  {
   "cell_type": "markdown",
   "id": "e4b507e4-0bf0-43b0-91c8-dcb0c15f5bd5",
   "metadata": {},
   "source": [
    "## Data set Y"
   ]
  },
  {
   "cell_type": "code",
   "execution_count": 32,
   "id": "406d4e97-654f-475f-b878-6aca8127c651",
   "metadata": {},
   "outputs": [],
   "source": [
    "m = 3\n",
    "l = 0"
   ]
  },
  {
   "cell_type": "code",
   "execution_count": 33,
   "id": "aea40e13-b7c7-4632-a711-71351e71715b",
   "metadata": {},
   "outputs": [
    {
     "name": "stdout",
     "output_type": "stream",
     "text": [
      "Probability of next trial being head: p = 0.500\n"
     ]
    }
   ],
   "source": [
    "posterior = calculate_posterior(m, l, a, b)\n",
    "p = predict(m, l, a, b)"
   ]
  },
  {
   "cell_type": "code",
   "execution_count": 34,
   "id": "f50d3fd1-82e9-401a-9c0f-5730d61b1a9a",
   "metadata": {},
   "outputs": [
    {
     "data": {
      "image/png": "[encoded data removed]",
      "text/plain": [
       "<Figure size 1000x200 with 2 Axes>"
      ]
     },
     "metadata": {},
     "output_type": "display_data"
    }
   ],
   "source": [
    "plot_prior_posterior(prior, posterior, p)"
   ]
  },
  {
   "cell_type": "markdown",
   "id": "b798c88f-8d7a-44af-b5c2-6840d6aa08a2",
   "metadata": {},
   "source": [
    "With 3 heads in a row, D updates his belief and the posterior over $\\mu$ is now centered at p=0.5."
   ]
  },
  {
   "cell_type": "markdown",
   "id": "d25597eb-ca89-4464-b986-ef6173775e10",
   "metadata": {},
   "source": [
    "## Data set Z"
   ]
  },
  {
   "cell_type": "code",
   "execution_count": 35,
   "id": "ad7a2a11-2c8a-4690-8b09-cdf14044a756",
   "metadata": {},
   "outputs": [
    {
     "data": {
      "text/plain": [
       "(80, 20)"
      ]
     },
     "execution_count": 35,
     "metadata": {},
     "output_type": "execute_result"
    }
   ],
   "source": [
    "m = Z.sum()\n",
    "l = len(Z) - m\n",
    "m, l"
   ]
  },
  {
   "cell_type": "code",
   "execution_count": 36,
   "id": "0b84c307-ff4a-4249-bd95-a5e29fcdba0b",
   "metadata": {},
   "outputs": [
    {
     "name": "stdout",
     "output_type": "stream",
     "text": [
      "Probability of next trial being head: p = 0.766\n"
     ]
    }
   ],
   "source": [
    "posterior = calculate_posterior(m, l, a, b)\n",
    "p = predict(m, l, a, b)"
   ]
  },
  {
   "cell_type": "code",
   "execution_count": 37,
   "id": "4e6cabe3-fcc4-426d-b758-64c649bbf478",
   "metadata": {},
   "outputs": [
    {
     "data": {
      "image/png": "[encoded data removed]",
      "text/plain": [
       "<Figure size 1000x200 with 2 Axes>"
      ]
     },
     "metadata": {},
     "output_type": "display_data"
    }
   ],
   "source": [
    "plot_prior_posterior(prior, posterior, p)"
   ]
  },
  {
   "cell_type": "markdown",
   "id": "748dcc5c-c208-41cf-b8db-5700b83895af",
   "metadata": {},
   "source": [
    "With 100 observations, D's initial bias towards tail is mostly gone, and the posterior over $\\mu$ is narrow and is peaked near p=0.8, which corresponds to the observed head frequency."
   ]
  },
  {
   "cell_type": "markdown",
   "id": "ac8f816c-10fd-4f69-aa84-1a0cea41be70",
   "metadata": {
    "jp-MarkdownHeadingCollapsed": true,
    "tags": []
   },
   "source": [
    "# Data scientist E: use a narrow prior Beta(a=200, b=200)"
   ]
  },
  {
   "cell_type": "code",
   "execution_count": 38,
   "id": "69d04763-90ba-4a23-9e6e-de9a8bb564e9",
   "metadata": {},
   "outputs": [],
   "source": [
    "a = 200\n",
    "b = 200\n",
    "prior = beta(a, b)"
   ]
  },
  {
   "cell_type": "markdown",
   "id": "547aab4d-586d-424f-a801-4b4434d0ffb5",
   "metadata": {},
   "source": [
    "This prior describe E's strong belief that all coins should be unbiased. "
   ]
  },
  {
   "cell_type": "markdown",
   "id": "6ea46971-d67d-4e15-a881-30cca69fe543",
   "metadata": {},
   "source": [
    "## Data set X"
   ]
  },
  {
   "cell_type": "code",
   "execution_count": 39,
   "id": "34e7efdb-b3cb-4096-bb4d-a40a079bd5a4",
   "metadata": {},
   "outputs": [],
   "source": [
    "m = 1\n",
    "l = 0"
   ]
  },
  {
   "cell_type": "code",
   "execution_count": 40,
   "id": "480ffe42-9796-42d8-a768-0234eb48e286",
   "metadata": {},
   "outputs": [
    {
     "name": "stdout",
     "output_type": "stream",
     "text": [
      "Probability of next trial being head: p = 0.501\n"
     ]
    }
   ],
   "source": [
    "posterior = calculate_posterior(m, l, a, b)\n",
    "p = predict(m, l, a, b)"
   ]
  },
  {
   "cell_type": "code",
   "execution_count": 41,
   "id": "d834d94b-4d2e-4acb-8402-a9056a9576d9",
   "metadata": {},
   "outputs": [
    {
     "data": {
      "image/png": "[encoded data removed]",
      "text/plain": [
       "<Figure size 1000x200 with 2 Axes>"
      ]
     },
     "metadata": {},
     "output_type": "display_data"
    }
   ],
   "source": [
    "plot_prior_posterior(prior, posterior, p)"
   ]
  },
  {
   "cell_type": "markdown",
   "id": "8a24cec0-1116-42aa-8e1d-569a4b2bebf2",
   "metadata": {},
   "source": [
    "A single observation barely changes E's strong belief. "
   ]
  },
  {
   "cell_type": "markdown",
   "id": "d28b6c6f-507a-44c0-92ba-f870d28e1d4f",
   "metadata": {},
   "source": [
    "## Data set Y"
   ]
  },
  {
   "cell_type": "code",
   "execution_count": 42,
   "id": "4527e954-a28c-41d0-ab17-81714db3a02e",
   "metadata": {},
   "outputs": [],
   "source": [
    "m = 3\n",
    "l = 0"
   ]
  },
  {
   "cell_type": "code",
   "execution_count": 43,
   "id": "19e456bd-bc7d-48bf-9c5b-8edbcdb68cd4",
   "metadata": {},
   "outputs": [
    {
     "name": "stdout",
     "output_type": "stream",
     "text": [
      "Probability of next trial being head: p = 0.504\n"
     ]
    }
   ],
   "source": [
    "posterior = calculate_posterior(m, l, a, b)\n",
    "p = predict(m, l, a, b)"
   ]
  },
  {
   "cell_type": "code",
   "execution_count": 44,
   "id": "f54aa89e-c7b5-4fa1-8fa8-b09dfdf3ebf9",
   "metadata": {},
   "outputs": [
    {
     "data": {
      "image/png": "[encoded data removed]",
      "text/plain": [
       "<Figure size 1000x200 with 2 Axes>"
      ]
     },
     "metadata": {},
     "output_type": "display_data"
    }
   ],
   "source": [
    "plot_prior_posterior(prior, posterior, p)"
   ]
  },
  {
   "cell_type": "markdown",
   "id": "877cba40-615a-47ed-a1ef-31aef66e5df9",
   "metadata": {},
   "source": [
    "With more heads, D's belief is slightly moved towards higher $\\mu$."
   ]
  },
  {
   "cell_type": "markdown",
   "id": "698094fc-f5f8-4b18-b080-f625dccc6cae",
   "metadata": {},
   "source": [
    "## Data set Z"
   ]
  },
  {
   "cell_type": "code",
   "execution_count": 45,
   "id": "d908f574-4e83-42a1-bff6-0ef47552bf44",
   "metadata": {},
   "outputs": [
    {
     "data": {
      "text/plain": [
       "(80, 20)"
      ]
     },
     "execution_count": 45,
     "metadata": {},
     "output_type": "execute_result"
    }
   ],
   "source": [
    "m = Z.sum()\n",
    "l = len(Z) - m\n",
    "m, l"
   ]
  },
  {
   "cell_type": "code",
   "execution_count": 46,
   "id": "536d8fa3-4a5b-4741-b7b2-757f4f1140f7",
   "metadata": {},
   "outputs": [
    {
     "name": "stdout",
     "output_type": "stream",
     "text": [
      "Probability of next trial being head: p = 0.560\n"
     ]
    }
   ],
   "source": [
    "posterior = calculate_posterior(m, l, a, b)\n",
    "p = predict(m, l, a, b)"
   ]
  },
  {
   "cell_type": "code",
   "execution_count": 47,
   "id": "b3c90c69-a1e2-4a27-8d1a-f5db27ed4aaf",
   "metadata": {},
   "outputs": [
    {
     "data": {
      "image/png": "[encoded data removed]",
      "text/plain": [
       "<Figure size 1000x200 with 2 Axes>"
      ]
     },
     "metadata": {},
     "output_type": "display_data"
    }
   ],
   "source": [
    "plot_prior_posterior(prior, posterior, p)"
   ]
  },
  {
   "cell_type": "markdown",
   "id": "cc0da582-7dd7-46c2-8688-70e5b6ce13fa",
   "metadata": {},
   "source": [
    "With 100 observations, E's belief moved a bit more but he's prediction is only p=0.56 when 80% of the observations are heads. Thus, D is strongly influenced by his own prior belief, and is less influenced by the observations. This shows the potential issue with using a narrow prior distribution. "
   ]
  },
  {
   "cell_type": "markdown",
   "id": "d9a38e29-e138-4b97-8ad6-66fb1b8decc2",
   "metadata": {},
   "source": [
    "# Summary"
   ]
  },
  {
   "cell_type": "markdown",
   "id": "f7c4e9a8-d77b-42d2-8085-cc5182f14b6b",
   "metadata": {},
   "source": [
    "|Data scientist |prior | X (N=1)  | Y (N=3)  |Z (N=100)|\n",
    "|-----|----------------|----------|----------|---------|\n",
    "| A   | ML             |  1.0     | 1.0      |   0.8   |\n",
    "| B   | Beta(1, 1)     | 0.667    | 0.8      | 0.794   |\n",
    "| C   | Beta(2, 2)     |  0.6     | 0.714    | 0.788   |\n",
    "| D   | Beta(2, 5)     | 0.375    | 0.500    | 0.766   |\n",
    "| E   | Beta(200, 200) | 0.501    | 0.504    | 0.560   |"
   ]
  }
 ],
 "metadata": {
  "kernelspec": {
   "display_name": "Python 3 (ipykernel)",
   "language": "python",
   "name": "python3"
  },
  "language_info": {
   "codemirror_mode": {
    "name": "ipython",
    "version": 3
   },
   "file_extension": ".py",
   "mimetype": "text/x-python",
   "name": "python",
   "nbconvert_exporter": "python",
   "pygments_lexer": "ipython3",
   "version": "3.10.11"
  }
 },
 "nbformat": 4,
 "nbformat_minor": 5
}
