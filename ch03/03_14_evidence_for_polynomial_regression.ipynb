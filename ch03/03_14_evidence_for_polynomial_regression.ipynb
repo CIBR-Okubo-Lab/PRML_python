{
 "cells": [
  {
   "cell_type": "markdown",
   "id": "16ba582d-9d85-407a-990a-8752a15aa14a",
   "metadata": {},
   "source": [
    "# Calculating the evidence for the polynomial regression problem"
   ]
  },
  {
   "cell_type": "markdown",
   "id": "25a46237-97b9-4a1e-a59a-503023f97053",
   "metadata": {},
   "source": [
    "What is the degree of polynomial M that maximizes the evidence?\n",
    "\n",
    "Polynomial regression of synthetic data (sine wave + Gaussian noise) obtained from [here](http://research.microsoft.com/en-us/um/people/cmbishop/PRML/webdatasets/curvefitting.txt)"
   ]
  },
  {
   "cell_type": "code",
   "execution_count": 1,
   "id": "0f4fbf0b-39e7-4eb0-96e1-17a3ada4d2d5",
   "metadata": {},
   "outputs": [],
   "source": [
    "import matplotlib.pyplot as plt\n",
    "import numpy as np"
   ]
  },
  {
   "cell_type": "markdown",
   "id": "d37f49b5-90c6-4af7-b08d-af7beb12703a",
   "metadata": {},
   "source": [
    "## Load data"
   ]
  },
  {
   "cell_type": "code",
   "execution_count": 2,
   "id": "19eed5b7-b97a-4ab9-b69b-694c771eb7f9",
   "metadata": {},
   "outputs": [],
   "source": [
    "data = np.loadtxt('../data/curvefitting.txt', dtype=str, delimiter=' ')"
   ]
  },
  {
   "cell_type": "code",
   "execution_count": 3,
   "id": "e5630ae4-0c30-4b17-ae6a-66c8f44b8990",
   "metadata": {},
   "outputs": [],
   "source": [
    "data = data.astype(np.float64)"
   ]
  },
  {
   "cell_type": "code",
   "execution_count": 4,
   "id": "17128473-52b5-4cb1-af1e-d376fad127ac",
   "metadata": {},
   "outputs": [],
   "source": [
    "x = data[:, 0]\n",
    "t = data[:, 1]"
   ]
  },
  {
   "cell_type": "code",
   "execution_count": 5,
   "id": "d1cab0f1-7638-4450-ac1b-d61aadcd26aa",
   "metadata": {},
   "outputs": [],
   "source": [
    "# for plotting the sinusoid\n",
    "x_test = np.linspace(0, 1, 100)\n",
    "t_test = np.sin(2 * np.pi * x_test)"
   ]
  },
  {
   "cell_type": "code",
   "execution_count": 6,
   "id": "df42cf67-648d-48bd-864f-934cef49fa8e",
   "metadata": {},
   "outputs": [
    {
     "data": {
      "image/png": "[encoded data removed]",
      "text/plain": [
       "<Figure size 600x350 with 1 Axes>"
      ]
     },
     "metadata": {},
     "output_type": "display_data"
    }
   ],
   "source": [
    "plt.figure(figsize=(6, 3.5))\n",
    "plt.plot(x_test, t_test, 'g')  # ground truth sinusoid\n",
    "plt.scatter(x, t, facecolors='none', edgecolors='b', s=60)\n",
    "plt.xlim([-0.1, 1.1])\n",
    "plt.ylim([-1.5, 1.5])\n",
    "plt.xticks(ticks=[0, 1])\n",
    "plt.yticks(ticks=[-1, 0, 1])\n",
    "plt.xlabel('x', fontsize=12)\n",
    "plt.ylabel('t', fontsize=12)\n",
    "plt.show()"
   ]
  },
  {
   "cell_type": "markdown",
   "id": "e5209771-ecfd-46fd-abbf-4147a5c02ffc",
   "metadata": {},
   "source": [
    "## Polynomial curve fitting"
   ]
  },
  {
   "cell_type": "code",
   "execution_count": 7,
   "id": "400cf9a4-1395-4a5e-9827-fe89911769c2",
   "metadata": {},
   "outputs": [],
   "source": [
    "alpha = 5e-3  # mentioned in teh text (p.167)"
   ]
  },
  {
   "cell_type": "code",
   "execution_count": 8,
   "id": "413472b6-2cff-4a92-8120-22a306d84439",
   "metadata": {},
   "outputs": [],
   "source": [
    "deg = 1  # degree of the polynomial\n",
    "M = deg + 1  # include the bias terms"
   ]
  },
  {
   "cell_type": "code",
   "execution_count": 9,
   "id": "b756aef4-9f67-4b40-831f-1985edf77115",
   "metadata": {},
   "outputs": [],
   "source": [
    "def create_design_matrix(x, M):\n",
    "    \"\"\"create a design matrix for polynomial regression\n",
    "    \n",
    "    Args:\n",
    "        x (np.array): observations (N, )\n",
    "        M (int): number of paramters including the bias\n",
    "    \n",
    "    Returns:\n",
    "        Phi (np.array): design matrix in PRML (3.16), (N, M)\n",
    "    \"\"\"\n",
    "    \n",
    "    Phi = []\n",
    "    for m in range(M):\n",
    "        Phi.append(x ** m)\n",
    "    Phi = np.array(Phi).T  # (N, M)\n",
    "    \n",
    "    return Phi"
   ]
  },
  {
   "cell_type": "markdown",
   "id": "7bcbd736-4b1a-4bd0-bc8b-8090b91fce0f",
   "metadata": {},
   "source": [
    "# Line by line"
   ]
  },
  {
   "cell_type": "code",
   "execution_count": 10,
   "id": "7bd39ef1-94d4-4077-bfee-aab8ea839dc6",
   "metadata": {},
   "outputs": [
    {
     "data": {
      "text/plain": [
       "11.11111111111111"
      ]
     },
     "execution_count": 10,
     "metadata": {},
     "output_type": "execute_result"
    }
   ],
   "source": [
    "beta = 1. / (0.3 ** 2)  # using the ground truth value of sigma=0.3 mentioned in Appendix A\n",
    "beta"
   ]
  },
  {
   "cell_type": "code",
   "execution_count": 11,
   "id": "8aa2d09f-64e7-4ad1-b1dd-bf1aadcbf3cf",
   "metadata": {},
   "outputs": [],
   "source": [
    "M = 4"
   ]
  },
  {
   "cell_type": "code",
   "execution_count": 12,
   "id": "c644192f-e822-4857-b807-b0666d0b1b20",
   "metadata": {},
   "outputs": [
    {
     "data": {
      "text/plain": [
       "10"
      ]
     },
     "execution_count": 12,
     "metadata": {},
     "output_type": "execute_result"
    }
   ],
   "source": [
    "N = x.shape[0]  # number of data points \n",
    "N"
   ]
  },
  {
   "cell_type": "code",
   "execution_count": 13,
   "id": "b4d622f1-2e97-43d5-afbb-c3f4c4ac5ca7",
   "metadata": {},
   "outputs": [
    {
     "data": {
      "text/plain": [
       "(10, 4)"
      ]
     },
     "execution_count": 13,
     "metadata": {},
     "output_type": "execute_result"
    }
   ],
   "source": [
    "Phi = create_design_matrix(x, M)\n",
    "Phi.shape"
   ]
  },
  {
   "cell_type": "code",
   "execution_count": 14,
   "id": "1f70d899-21d3-4062-a642-0810467ef034",
   "metadata": {},
   "outputs": [],
   "source": [
    "S_N = np.linalg.pinv(alpha * np.eye(M) + beta * Phi.T @ Phi)  # improve the numerical stability here!\n",
    "m_N = beta * S_N @ Phi.T @ t  # (3.53)"
   ]
  },
  {
   "cell_type": "code",
   "execution_count": 15,
   "id": "355bfd7d-4a71-4ff2-9637-d4d902f2852d",
   "metadata": {},
   "outputs": [
    {
     "data": {
      "text/plain": [
       "array([  0.46132488,   5.77793765, -19.84845365,  13.75092052])"
      ]
     },
     "execution_count": 15,
     "metadata": {},
     "output_type": "execute_result"
    }
   ],
   "source": [
    "m_N"
   ]
  },
  {
   "cell_type": "code",
   "execution_count": 16,
   "id": "23e7ee06-252b-4699-b788-026c43f67fab",
   "metadata": {},
   "outputs": [],
   "source": [
    "A = alpha * np.eye(M) + beta * Phi.T @ Phi  # (3.54)\n",
    "(sign, logabsdet) = np.linalg.slogdet(A)"
   ]
  },
  {
   "cell_type": "code",
   "execution_count": 17,
   "id": "5e595452-e17a-4677-a772-b79050f1b808",
   "metadata": {},
   "outputs": [
    {
     "data": {
      "text/plain": [
       "3.9171545070210287"
      ]
     },
     "execution_count": 17,
     "metadata": {},
     "output_type": "execute_result"
    }
   ],
   "source": [
    "E = (beta / 2) * np.linalg.norm((t - Phi @ m_N), ord=2) ** 2 + (alpha / 2) * m_N.T @ m_N  # (3.82)\n",
    "E"
   ]
  },
  {
   "cell_type": "code",
   "execution_count": 18,
   "id": "b128d3c6-7ecf-40aa-9af7-fa1755877669",
   "metadata": {},
   "outputs": [
    {
     "data": {
      "text/plain": [
       "-13.933370482940083"
      ]
     },
     "execution_count": 18,
     "metadata": {},
     "output_type": "execute_result"
    }
   ],
   "source": [
    "log_evidence = (M / 2) * np.log(alpha) + (N / 2) * np.log(beta) - E - (1. / 2) * sign * logabsdet - (N / 2) * np.log(2 * np.pi)  # (3.86)\n",
    "log_evidence "
   ]
  },
  {
   "cell_type": "code",
   "execution_count": 19,
   "id": "76d00dd0-e2e9-4374-9548-4a245bf5e0c1",
   "metadata": {},
   "outputs": [],
   "source": [
    "def log_evidence(M):\n",
    "    Phi = create_design_matrix(x, M)\n",
    "    S_N = np.linalg.pinv(alpha * np.eye(M) + beta * Phi.T @ Phi) \n",
    "    m_N = beta * S_N @ Phi.T @ t  # (3.53)\n",
    "    A = alpha * np.eye(M) + beta * Phi.T @ Phi  # (3.54)\n",
    "    \n",
    "    (sign, logabsdet) = np.linalg.slogdet(A)\n",
    "    E = (beta / 2) * np.linalg.norm((t - Phi @ m_N), ord=2) ** 2 + (alpha / 2) * m_N.T @ m_N  # (3.82)\n",
    "    log_evidence = (M / 2) * np.log(alpha) + (N / 2) * np.log(beta) - E - (1. / 2) * sign * logabsdet - (N / 2) * np.log(2 * np.pi)  # (3.86)\n",
    "    return log_evidence"
   ]
  },
  {
   "cell_type": "code",
   "execution_count": 20,
   "id": "17f1021f-4472-448c-a20c-ffce82539f2d",
   "metadata": {},
   "outputs": [],
   "source": [
    "M_list = range(1, 11)\n",
    "result = []\n",
    "for M in M_list:\n",
    "    result.append(log_evidence(M))"
   ]
  },
  {
   "cell_type": "code",
   "execution_count": 21,
   "id": "d41411a7-5d63-46c5-a40a-b157b3ecbc47",
   "metadata": {},
   "outputs": [
    {
     "data": {
      "image/png": "[encoded data removed]",
      "text/plain": [
       "<Figure size 600x350 with 1 Axes>"
      ]
     },
     "metadata": {},
     "output_type": "display_data"
    }
   ],
   "source": [
    "fig, ax = plt.subplots(1, 1, figsize=(6, 3.5))\n",
    "ax.plot(np.array(M_list) - 1, result, 'b')\n",
    "ax.tick_params(labelsize=10, direction='in', which='both', right=True, top=True)\n",
    "ax.set_xlabel('M', fontsize=14)\n",
    "ax.set_ylabel('Log evidence', fontsize=14)\n",
    "ax.set_title('Log evidence (likely correct)')\n",
    "plt.show()"
   ]
  },
  {
   "cell_type": "markdown",
   "id": "307d6ca1-e720-47cd-9492-0ce510308eb3",
   "metadata": {},
   "source": [
    "# Figure 3.14: possibly contains a bug?"
   ]
  },
  {
   "cell_type": "markdown",
   "id": "618a0519-a2f2-4b34-a7f0-8cbaa97cb97d",
   "metadata": {},
   "source": [
    "Several people have pointed out that they cannot reproduce Fig. 13 ([Shuyo](https://shuyo.hatenablog.com/entry/20090715/evidence), [Sage](http://www.pwv.co.jp/~take/TakeWiki/index.php?sage%2FPRML-%20%E3%82%A8%E3%83%93%E3%83%87%E3%83%B3%E3%82%B9%E8%BF%91%E4%BC%BC)). `Sage` suspected that the authors might have used `norm(A)` instead of `det(A)`. This change indeed makes it more similar to Fig. 3.14!). One person suspected that the authors might have used `norm(A)` instead of `det(A)`. This change indeed makes it more similar to Fig. 3.14!"
   ]
  },
  {
   "cell_type": "code",
   "execution_count": 22,
   "id": "42a4a477-01a4-49d4-9576-c4dd8c9699ca",
   "metadata": {},
   "outputs": [],
   "source": [
    "def log_evidence_typo(M):\n",
    "    Phi = create_design_matrix(x, M)\n",
    "    S_N = np.linalg.pinv(alpha * np.eye(M) + beta * Phi.T @ Phi) \n",
    "    m_N = beta * S_N @ Phi.T @ t  # (3.53)\n",
    "    A = alpha * np.eye(M) + beta * Phi.T @ Phi  # (3.54)\n",
    "    \n",
    "    #(sign, logabsdet) = np.linalg.slogdet(A)\n",
    "    E = (beta / 2) * np.linalg.norm((t - Phi @ m_N), ord=2) ** 2 + (alpha / 2) * m_N.T @ m_N  # (3.82)\n",
    "    log_evidence = (M / 2) * np.log(alpha) + (N / 2) * np.log(beta) - E - (1. / 2) * np.log(np.linalg.norm(A)) - (N / 2) * np.log(2 * np.pi)  # (3.86)\n",
    "    return log_evidence"
   ]
  },
  {
   "cell_type": "code",
   "execution_count": 23,
   "id": "73819374-ba0a-4901-a472-3232c80df300",
   "metadata": {},
   "outputs": [],
   "source": [
    "M_list = range(1, 11)\n",
    "result = []\n",
    "for M in M_list:\n",
    "    result.append(log_evidence_typo(M))"
   ]
  },
  {
   "cell_type": "code",
   "execution_count": 24,
   "id": "6d7757a9-37d8-4960-95db-3d4ee48008bd",
   "metadata": {},
   "outputs": [
    {
     "data": {
      "image/png": "[encoded data removed]",
      "text/plain": [
       "<Figure size 600x350 with 1 Axes>"
      ]
     },
     "metadata": {},
     "output_type": "display_data"
    }
   ],
   "source": [
    "fig, ax = plt.subplots(1, 1, figsize=(6, 3.5))\n",
    "ax.plot(np.array(M_list) - 1, result, 'b')\n",
    "ax.tick_params(labelsize=10, direction='in', which='both', right=True, top=True)\n",
    "ax.set_xlabel('M', fontsize=14)\n",
    "ax.set_ylabel('Log evidence', fontsize=14)\n",
    "ax.set_title('Log evidence (with a bug!)')\n",
    "plt.show()"
   ]
  }
 ],
 "metadata": {
  "kernelspec": {
   "display_name": "Python 3 (ipykernel)",
   "language": "python",
   "name": "python3"
  },
  "language_info": {
   "codemirror_mode": {
    "name": "ipython",
    "version": 3
   },
   "file_extension": ".py",
   "mimetype": "text/x-python",
   "name": "python",
   "nbconvert_exporter": "python",
   "pygments_lexer": "ipython3",
   "version": "3.10.11"
  }
 },
 "nbformat": 4,
 "nbformat_minor": 5
}
