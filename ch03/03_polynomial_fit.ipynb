{
 "cells": [
  {
   "cell_type": "markdown",
   "id": "16ba582d-9d85-407a-990a-8752a15aa14a",
   "metadata": {},
   "source": [
    "# Polynomial Curve Fitting (from 1.1 but without using any packages)"
   ]
  },
  {
   "cell_type": "markdown",
   "id": "25a46237-97b9-4a1e-a59a-503023f97053",
   "metadata": {},
   "source": [
    "Polynomial regression of synthetic data (sine wave + Gaussian noise).\n",
    "\n",
    "Data obtained from http://research.microsoft.com/en-us/um/people/cmbishop/PRML/webdatasets/curvefitting.txt"
   ]
  },
  {
   "cell_type": "code",
   "execution_count": 1,
   "id": "0f4fbf0b-39e7-4eb0-96e1-17a3ada4d2d5",
   "metadata": {},
   "outputs": [],
   "source": [
    "import matplotlib.pyplot as plt\n",
    "import numpy as np"
   ]
  },
  {
   "cell_type": "markdown",
   "id": "d37f49b5-90c6-4af7-b08d-af7beb12703a",
   "metadata": {},
   "source": [
    "## Load data"
   ]
  },
  {
   "cell_type": "code",
   "execution_count": 2,
   "id": "19eed5b7-b97a-4ab9-b69b-694c771eb7f9",
   "metadata": {},
   "outputs": [],
   "source": [
    "data = np.loadtxt('../data/curvefitting.txt', dtype=str, delimiter=' ')"
   ]
  },
  {
   "cell_type": "code",
   "execution_count": 3,
   "id": "e5630ae4-0c30-4b17-ae6a-66c8f44b8990",
   "metadata": {},
   "outputs": [],
   "source": [
    "data = data.astype(np.float64)"
   ]
  },
  {
   "cell_type": "code",
   "execution_count": 4,
   "id": "17128473-52b5-4cb1-af1e-d376fad127ac",
   "metadata": {},
   "outputs": [],
   "source": [
    "x = data[:, 0]\n",
    "t = data[:, 1]"
   ]
  },
  {
   "cell_type": "code",
   "execution_count": 5,
   "id": "d1cab0f1-7638-4450-ac1b-d61aadcd26aa",
   "metadata": {},
   "outputs": [],
   "source": [
    "# for plotting the sinusoid\n",
    "x_grid = np.linspace(0, 1, 100)\n",
    "t_grid = np.sin(2 * np.pi * x_grid)"
   ]
  },
  {
   "cell_type": "code",
   "execution_count": 6,
   "id": "df42cf67-648d-48bd-864f-934cef49fa8e",
   "metadata": {},
   "outputs": [
    {
     "data": {
      "image/png": "[encoded data removed]",
      "text/plain": [
       "<Figure size 600x350 with 1 Axes>"
      ]
     },
     "metadata": {},
     "output_type": "display_data"
    }
   ],
   "source": [
    "plt.figure(figsize=(6, 3.5))\n",
    "plt.plot(x_grid, t_grid, 'g')  # ground truth sinusoid\n",
    "plt.scatter(x, t, facecolors='none', edgecolors='b', s=60)\n",
    "plt.xlim([-0.1, 1.1])\n",
    "plt.ylim([-1.5, 1.5])\n",
    "plt.xticks(ticks=[0, 1])\n",
    "plt.yticks(ticks=[-1, 0, 1])\n",
    "plt.xlabel('x', fontsize=12)\n",
    "plt.ylabel('t', fontsize=12)\n",
    "plt.show()"
   ]
  },
  {
   "cell_type": "markdown",
   "id": "e5209771-ecfd-46fd-abbf-4147a5c02ffc",
   "metadata": {},
   "source": [
    "## Polynomial curve fitting"
   ]
  },
  {
   "cell_type": "code",
   "execution_count": 7,
   "id": "60a7de27-d16c-4300-851e-7935945fa29c",
   "metadata": {},
   "outputs": [
    {
     "data": {
      "text/plain": [
       "(10,)"
      ]
     },
     "execution_count": 7,
     "metadata": {},
     "output_type": "execute_result"
    }
   ],
   "source": [
    "x.shape"
   ]
  },
  {
   "cell_type": "code",
   "execution_count": 8,
   "id": "67c577ea-ce81-44a2-8429-20da6a09789a",
   "metadata": {},
   "outputs": [
    {
     "data": {
      "text/plain": [
       "(10,)"
      ]
     },
     "execution_count": 8,
     "metadata": {},
     "output_type": "execute_result"
    }
   ],
   "source": [
    "t.shape"
   ]
  },
  {
   "cell_type": "code",
   "execution_count": 9,
   "id": "b756aef4-9f67-4b40-831f-1985edf77115",
   "metadata": {},
   "outputs": [],
   "source": [
    "def create_design_matrix(x, deg):\n",
    "    \"\"\"create a design matrix for polynomial regression\n",
    "    \n",
    "    Args:\n",
    "        x (np.array): observations (N, )\n",
    "        deg (int): degree of polynomial\n",
    "    \n",
    "    Returns:\n",
    "        Phi (np.array): design matrix in PRML (3.16), (N, M)\n",
    "    \"\"\"\n",
    "    M = deg + 1  # M includes the bias term\n",
    "    N = len(x)\n",
    "    \n",
    "    Phi = []\n",
    "    for m in range(M):\n",
    "        Phi.append(x ** m)\n",
    "    Phi = np.array(Phi).T  # (N, M)\n",
    "    \n",
    "    return Phi"
   ]
  },
  {
   "cell_type": "code",
   "execution_count": 10,
   "id": "f5ea6549-d1ce-480d-9c6f-2dac10053428",
   "metadata": {},
   "outputs": [],
   "source": [
    "def create_design_matrix_2(x, deg):\n",
    "    \"\"\"create a design matrix for polynomial regression using broadcasting\n",
    "    \n",
    "    Args:\n",
    "        x (np.array): observations (N, )\n",
    "        deg (int): degree of polynomial\n",
    "    \n",
    "    Returns:\n",
    "        Phi (np.array): design matrix in PRML (3.16), (N, M)\n",
    "    \"\"\"\n",
    "    M = deg + 1  # M includes the bias term\n",
    "    N = len(x)\n",
    "\n",
    "    Phi = x[:, np.newaxis] ** np.arange(M)[np.newaxis, :]  # (N, 1) ** (1, M)\n",
    "    \n",
    "    return Phi"
   ]
  },
  {
   "cell_type": "markdown",
   "id": "ae67ec72-6aa8-445c-9aec-aa93b0acf02d",
   "metadata": {},
   "source": [
    "### Checking the design matrix"
   ]
  },
  {
   "cell_type": "code",
   "execution_count": 11,
   "id": "c1265b36-7101-4b16-8358-54ecd2479544",
   "metadata": {},
   "outputs": [
    {
     "data": {
      "text/plain": [
       "array([[1.      , 0.      ],\n",
       "       [1.      , 0.111111],\n",
       "       [1.      , 0.222222],\n",
       "       [1.      , 0.333333],\n",
       "       [1.      , 0.444444],\n",
       "       [1.      , 0.555556],\n",
       "       [1.      , 0.666667],\n",
       "       [1.      , 0.777778],\n",
       "       [1.      , 0.888889],\n",
       "       [1.      , 1.      ]])"
      ]
     },
     "execution_count": 11,
     "metadata": {},
     "output_type": "execute_result"
    }
   ],
   "source": [
    "Phi = create_design_matrix(x, deg=1)\n",
    "Phi"
   ]
  },
  {
   "cell_type": "code",
   "execution_count": 12,
   "id": "f8e96f7e-41e6-4d8f-b879-c9a2774256c5",
   "metadata": {},
   "outputs": [
    {
     "data": {
      "text/plain": [
       "(10, 2)"
      ]
     },
     "execution_count": 12,
     "metadata": {},
     "output_type": "execute_result"
    }
   ],
   "source": [
    "Phi.shape"
   ]
  },
  {
   "cell_type": "code",
   "execution_count": 13,
   "id": "510db4c1-2077-4aa2-b625-29211a7591f5",
   "metadata": {},
   "outputs": [
    {
     "data": {
      "text/plain": [
       "array([[1.      , 0.      ],\n",
       "       [1.      , 0.111111],\n",
       "       [1.      , 0.222222],\n",
       "       [1.      , 0.333333],\n",
       "       [1.      , 0.444444],\n",
       "       [1.      , 0.555556],\n",
       "       [1.      , 0.666667],\n",
       "       [1.      , 0.777778],\n",
       "       [1.      , 0.888889],\n",
       "       [1.      , 1.      ]])"
      ]
     },
     "execution_count": 13,
     "metadata": {},
     "output_type": "execute_result"
    }
   ],
   "source": [
    "Phi_2 = create_design_matrix_2(x, deg=1)\n",
    "Phi_2"
   ]
  },
  {
   "cell_type": "code",
   "execution_count": 14,
   "id": "ab3d90e6-c441-42da-8b93-8005010f3beb",
   "metadata": {},
   "outputs": [],
   "source": [
    "Phi = create_design_matrix(x, deg=3)"
   ]
  },
  {
   "cell_type": "code",
   "execution_count": 15,
   "id": "442d4bf4-9e2c-4a99-a2f6-5aa4de215318",
   "metadata": {},
   "outputs": [
    {
     "data": {
      "text/plain": [
       "array([[1.        , 0.        , 0.        , 0.        ],\n",
       "       [1.        , 0.111111  , 0.01234565, 0.00137174],\n",
       "       [1.        , 0.222222  , 0.04938262, 0.0109739 ],\n",
       "       [1.        , 0.333333  , 0.11111089, 0.03703693],\n",
       "       [1.        , 0.444444  , 0.19753047, 0.08779123],\n",
       "       [1.        , 0.555556  , 0.30864247, 0.17146818],\n",
       "       [1.        , 0.666667  , 0.44444489, 0.29629674],\n",
       "       [1.        , 0.777778  , 0.60493862, 0.47050795],\n",
       "       [1.        , 0.888889  , 0.79012365, 0.70233222],\n",
       "       [1.        , 1.        , 1.        , 1.        ]])"
      ]
     },
     "execution_count": 15,
     "metadata": {},
     "output_type": "execute_result"
    }
   ],
   "source": [
    "Phi"
   ]
  },
  {
   "cell_type": "code",
   "execution_count": 16,
   "id": "46d13968-0a7e-4e05-94b4-910b0029bbf6",
   "metadata": {},
   "outputs": [],
   "source": [
    "Phi_2 = create_design_matrix_2(x, deg=3)"
   ]
  },
  {
   "cell_type": "code",
   "execution_count": 17,
   "id": "53184c15-73ba-4bde-a8ee-cd61bb14e38c",
   "metadata": {},
   "outputs": [
    {
     "data": {
      "text/plain": [
       "True"
      ]
     },
     "execution_count": 17,
     "metadata": {},
     "output_type": "execute_result"
    }
   ],
   "source": [
    "np.allclose(Phi, Phi_2)"
   ]
  },
  {
   "cell_type": "code",
   "execution_count": 18,
   "id": "0f69a769-d8bf-436f-8868-da8e0baf179d",
   "metadata": {},
   "outputs": [
    {
     "name": "stdout",
     "output_type": "stream",
     "text": [
      "118 µs ± 9.09 µs per loop (mean ± std. dev. of 7 runs, 100 loops each)\n"
     ]
    }
   ],
   "source": [
    "%%timeit -n 100\n",
    "Phi = create_design_matrix(x, deg=100)"
   ]
  },
  {
   "cell_type": "code",
   "execution_count": 19,
   "id": "657d6b49-433d-42a9-bb3e-ea9a503975ef",
   "metadata": {},
   "outputs": [
    {
     "name": "stdout",
     "output_type": "stream",
     "text": [
      "9.96 µs ± 2.83 µs per loop (mean ± std. dev. of 7 runs, 100 loops each)\n"
     ]
    }
   ],
   "source": [
    "%%timeit -n 100\n",
    "Phi = create_design_matrix_2(x, deg=100)"
   ]
  },
  {
   "cell_type": "markdown",
   "id": "9a5ba689-01b6-4227-bc1b-5518d1ad2f9e",
   "metadata": {},
   "source": [
    "### Comparing two ways of solving the normal equation in (3.15)"
   ]
  },
  {
   "cell_type": "code",
   "execution_count": 20,
   "id": "3a924cb9-91c2-433b-af18-15a034ba8c6e",
   "metadata": {},
   "outputs": [],
   "source": [
    "A = Phi.T @ Phi\n",
    "B = Phi.T @ t"
   ]
  },
  {
   "cell_type": "code",
   "execution_count": 21,
   "id": "bd4f096c-a558-41de-bc0f-8e7b6f39d07e",
   "metadata": {},
   "outputs": [
    {
     "name": "stdout",
     "output_type": "stream",
     "text": [
      "3.77 µs ± 126 ns per loop (mean ± std. dev. of 7 runs, 1,000 loops each)\n"
     ]
    }
   ],
   "source": [
    "%%timeit -n 1000\n",
    "np.linalg.inv(A) @ B"
   ]
  },
  {
   "cell_type": "code",
   "execution_count": 22,
   "id": "8ab1546b-77ae-436a-9194-b5e6e72669bf",
   "metadata": {},
   "outputs": [
    {
     "name": "stdout",
     "output_type": "stream",
     "text": [
      "2.5 µs ± 49.8 ns per loop (mean ± std. dev. of 7 runs, 1,000 loops each)\n"
     ]
    }
   ],
   "source": [
    "%%timeit -n 1000\n",
    "np.linalg.solve(A, B)"
   ]
  },
  {
   "cell_type": "code",
   "execution_count": 23,
   "id": "2ce22aa4-8bc3-4e6b-b077-09cf4bd6675d",
   "metadata": {},
   "outputs": [],
   "source": [
    "def solve_normal_equation(Phi, t):\n",
    "    \"\"\"solve the normal equation for linear reqression (3.15)\n",
    "    \n",
    "    Args:\n",
    "        Phi (np.array): design matrix (N, M)\n",
    "        t (np.array): target values (N, )\n",
    "    \n",
    "    Returns:\n",
    "        w_ML (np.array): coefficients including the bias term (M + 1, )\n",
    "    \"\"\"\n",
    "    A = Phi.T @ Phi\n",
    "    B = Phi.T @ t\n",
    "    w_ML = np.linalg.solve(A, B)  # faster and numerically more stable than np.linalg.inv\n",
    "    \n",
    "    return w_ML"
   ]
  },
  {
   "cell_type": "code",
   "execution_count": 24,
   "id": "37b5be7a-2e11-4f0f-9059-1a7abecf198d",
   "metadata": {},
   "outputs": [],
   "source": [
    "def poly_fit(x, t, x_grid, deg):\n",
    "    \"\"\"\n",
    "    Args:\n",
    "        x (np.array): inputs (N, )\n",
    "        t (np.array): target values (N, )\n",
    "        x_grid (np.array): input values for making predictions (N_grid, )\n",
    "        deg (int): degree of the polynomial\n",
    "        \n",
    "    Returns:\n",
    "        t_pred (np.array): predicted values for x_grid (N_grid, )\n",
    "        w_ML (np.array): coefficients (M, 1)\n",
    "    \"\"\"\n",
    "    Phi = create_design_matrix(x, deg)\n",
    "    w_ML = solve_normal_equation(Phi, t)\n",
    "    \n",
    "    Phi_2 = create_design_matrix(x_grid, deg)\n",
    "    t_pred = Phi_2 @ w_ML\n",
    "    \n",
    "    return t_pred, w_ML"
   ]
  },
  {
   "cell_type": "code",
   "execution_count": 25,
   "id": "3d27dc1e-6863-433c-a7e2-751eab58ce9b",
   "metadata": {},
   "outputs": [],
   "source": [
    "def plot_fit(x, t, x_grid, t_pred, ax, M):\n",
    "    ax.scatter(x, t, facecolors='none', edgecolors='b', s=60)\n",
    "    ax.plot(x_grid, t_grid , 'g')\n",
    "    ax.plot(x_grid, t_pred, 'r')\n",
    "    ax.text(x=0.8, y=0.9, s=f'M = {M}', fontsize=14) \n",
    "    ax.set_xlim([-0.1, 1.1])\n",
    "    ax.set_ylim([-1.4, 1.4])\n",
    "    ax.set_xticks(ticks=[0, 1])\n",
    "    ax.set_yticks(ticks=[-1, 0, 1])\n",
    "    ax.set_xlabel('x', fontsize=12)\n",
    "    ax.set_ylabel('t', fontsize=12)"
   ]
  },
  {
   "cell_type": "code",
   "execution_count": 26,
   "id": "36f82dd3-6113-43ba-992d-420a53e0219d",
   "metadata": {},
   "outputs": [
    {
     "data": {
      "image/png": "[encoded data removed]",
      "text/plain": [
       "<Figure size 1200x800 with 4 Axes>"
      ]
     },
     "metadata": {},
     "output_type": "display_data"
    }
   ],
   "source": [
    "M_list = [0, 1, 3, 9]\n",
    "fig, axs = plt.subplots(2, 2, figsize=(12, 8))\n",
    "ax = axs.flatten()\n",
    "\n",
    "for i, M in enumerate(M_list):\n",
    "    t_pred, _ = poly_fit(x, t, x_grid, M)\n",
    "    plot_fit(x, t, x_grid, t_pred, ax[i], M)"
   ]
  },
  {
   "cell_type": "markdown",
   "id": "547638b6-cac8-4430-8017-badbab1827ae",
   "metadata": {},
   "source": [
    "## Examine the coefficients (Table 1.1)"
   ]
  },
  {
   "cell_type": "code",
   "execution_count": 27,
   "id": "4e417f50-96b9-4bdc-9ff0-7ff843879f6d",
   "metadata": {},
   "outputs": [],
   "source": [
    "np.set_printoptions(precision=2)"
   ]
  },
  {
   "cell_type": "code",
   "execution_count": 28,
   "id": "12c89a52-32de-468e-adb9-0501d0591659",
   "metadata": {},
   "outputs": [],
   "source": [
    "def print_coefs(x, t, M):\n",
    "    \"\"\"\n",
    "    Args:\n",
    "        x (np.array, float): inputs\n",
    "        t (np.array, float): target values\n",
    "        M (int): degree of polynomial\n",
    "    \n",
    "    Returns:\n",
    "        prints the coefficients\n",
    "    \"\"\"\n",
    "    _, coef = poly_fit(x, t, x_grid, M)\n",
    "    print('\\n'.join([f'w{i}:  {c:.2f}' for i, c in enumerate(coef)]))"
   ]
  },
  {
   "cell_type": "code",
   "execution_count": 29,
   "id": "90bc5ee2-0c2b-432b-b529-c5d1f646fe9a",
   "metadata": {},
   "outputs": [
    {
     "name": "stdout",
     "output_type": "stream",
     "text": [
      "w0:  0.19\n"
     ]
    }
   ],
   "source": [
    "print_coefs(x, t, M=0)"
   ]
  },
  {
   "cell_type": "code",
   "execution_count": 30,
   "id": "12b9859a-3532-41e8-b88b-58b0cd3bf1ce",
   "metadata": {},
   "outputs": [
    {
     "name": "stdout",
     "output_type": "stream",
     "text": [
      "w0:  0.82\n",
      "w1:  -1.27\n"
     ]
    }
   ],
   "source": [
    "print_coefs(x, t, M=1)"
   ]
  },
  {
   "cell_type": "code",
   "execution_count": 31,
   "id": "5c0dc17d-0639-4278-92a5-b37b3c6eb3b9",
   "metadata": {},
   "outputs": [
    {
     "name": "stdout",
     "output_type": "stream",
     "text": [
      "w0:  0.31\n",
      "w1:  7.99\n",
      "w2:  -25.43\n",
      "w3:  17.37\n"
     ]
    }
   ],
   "source": [
    "print_coefs(x, t, M=3)"
   ]
  },
  {
   "cell_type": "code",
   "execution_count": 32,
   "id": "e68f2b6d-36e6-4cbd-b90b-c1d1dc16a77f",
   "metadata": {},
   "outputs": [
    {
     "name": "stdout",
     "output_type": "stream",
     "text": [
      "w0:  0.35\n",
      "w1:  232.46\n",
      "w2:  -5324.05\n",
      "w3:  48588.33\n",
      "w4:  -231733.32\n",
      "w5:  640298.23\n",
      "w6:  -1062219.32\n",
      "w7:  1042806.03\n",
      "w8:  -557897.51\n",
      "w9:  125249.06\n"
     ]
    }
   ],
   "source": [
    "print_coefs(x, t, M=9)"
   ]
  }
 ],
 "metadata": {
  "kernelspec": {
   "display_name": "Python 3 (ipykernel)",
   "language": "python",
   "name": "python3"
  },
  "language_info": {
   "codemirror_mode": {
    "name": "ipython",
    "version": 3
   },
   "file_extension": ".py",
   "mimetype": "text/x-python",
   "name": "python",
   "nbconvert_exporter": "python",
   "pygments_lexer": "ipython3",
   "version": "3.10.11"
  }
 },
 "nbformat": 4,
 "nbformat_minor": 5
}
