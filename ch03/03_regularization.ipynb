{
 "cells": [
  {
   "cell_type": "markdown",
   "id": "16ba582d-9d85-407a-990a-8752a15aa14a",
   "metadata": {},
   "source": [
    "# Polynomial Curve Fitting (from 1.1 but without using any packages)"
   ]
  },
  {
   "cell_type": "markdown",
   "id": "25a46237-97b9-4a1e-a59a-503023f97053",
   "metadata": {},
   "source": [
    "Polynomial regression of synthetic data (sine wave + Gaussian noise).\n",
    "\n",
    "Data obtained from http://research.microsoft.com/en-us/um/people/cmbishop/PRML/webdatasets/curvefitting.txt"
   ]
  },
  {
   "cell_type": "code",
   "execution_count": 1,
   "id": "0f4fbf0b-39e7-4eb0-96e1-17a3ada4d2d5",
   "metadata": {},
   "outputs": [],
   "source": [
    "import matplotlib.pyplot as plt\n",
    "import numpy as np"
   ]
  },
  {
   "cell_type": "markdown",
   "id": "d37f49b5-90c6-4af7-b08d-af7beb12703a",
   "metadata": {},
   "source": [
    "## Load data"
   ]
  },
  {
   "cell_type": "code",
   "execution_count": 2,
   "id": "19eed5b7-b97a-4ab9-b69b-694c771eb7f9",
   "metadata": {},
   "outputs": [],
   "source": [
    "data = np.loadtxt('../data/curvefitting.txt', dtype=str, delimiter=' ')"
   ]
  },
  {
   "cell_type": "code",
   "execution_count": 3,
   "id": "e5630ae4-0c30-4b17-ae6a-66c8f44b8990",
   "metadata": {},
   "outputs": [],
   "source": [
    "data = data.astype(np.float64)"
   ]
  },
  {
   "cell_type": "code",
   "execution_count": 4,
   "id": "17128473-52b5-4cb1-af1e-d376fad127ac",
   "metadata": {},
   "outputs": [],
   "source": [
    "x = data[:, 0]\n",
    "t = data[:, 1]"
   ]
  },
  {
   "cell_type": "code",
   "execution_count": 5,
   "id": "e3d57e69-27a4-438e-bf54-a5efaa0b1bc4",
   "metadata": {},
   "outputs": [],
   "source": [
    "# generate test data\n",
    "N_test = 100  # number of test points\n",
    "sigma = 0.3\n",
    "x_test = np.random.rand(N_test)\n",
    "t_test = np.sin(2 * np.pi * x_test) + sigma * np.random.randn(N_test)"
   ]
  },
  {
   "cell_type": "code",
   "execution_count": 6,
   "id": "d1cab0f1-7638-4450-ac1b-d61aadcd26aa",
   "metadata": {},
   "outputs": [],
   "source": [
    "# for plotting the sinusoid\n",
    "x_grid = np.linspace(0, 1, 100)\n",
    "t_grid = np.sin(2 * np.pi * x_grid)"
   ]
  },
  {
   "cell_type": "code",
   "execution_count": 7,
   "id": "df42cf67-648d-48bd-864f-934cef49fa8e",
   "metadata": {},
   "outputs": [
    {
     "data": {
      "image/png": "[encoded data removed]",
      "text/plain": [
       "<Figure size 600x350 with 1 Axes>"
      ]
     },
     "metadata": {},
     "output_type": "display_data"
    }
   ],
   "source": [
    "plt.figure(figsize=(6, 3.5))\n",
    "plt.plot(x_grid, t_grid, 'g')  # ground truth sinusoid\n",
    "plt.scatter(x, t, facecolors='none', edgecolors='b', s=60)\n",
    "plt.xlim([-0.1, 1.1])\n",
    "plt.ylim([-1.5, 1.5])\n",
    "plt.xticks(ticks=[0, 1])\n",
    "plt.yticks(ticks=[-1, 0, 1])\n",
    "plt.xlabel('x', fontsize=12)\n",
    "plt.ylabel('t', fontsize=12)\n",
    "plt.show()"
   ]
  },
  {
   "cell_type": "markdown",
   "id": "e5209771-ecfd-46fd-abbf-4147a5c02ffc",
   "metadata": {},
   "source": [
    "## Polynomial curve fitting"
   ]
  },
  {
   "cell_type": "code",
   "execution_count": 8,
   "id": "60a7de27-d16c-4300-851e-7935945fa29c",
   "metadata": {},
   "outputs": [
    {
     "data": {
      "text/plain": [
       "(10,)"
      ]
     },
     "execution_count": 8,
     "metadata": {},
     "output_type": "execute_result"
    }
   ],
   "source": [
    "x.shape"
   ]
  },
  {
   "cell_type": "code",
   "execution_count": 9,
   "id": "67c577ea-ce81-44a2-8429-20da6a09789a",
   "metadata": {},
   "outputs": [
    {
     "data": {
      "text/plain": [
       "(10,)"
      ]
     },
     "execution_count": 9,
     "metadata": {},
     "output_type": "execute_result"
    }
   ],
   "source": [
    "t.shape"
   ]
  },
  {
   "cell_type": "code",
   "execution_count": 10,
   "id": "f5ea6549-d1ce-480d-9c6f-2dac10053428",
   "metadata": {},
   "outputs": [],
   "source": [
    "def create_design_matrix(x, deg):\n",
    "    \"\"\"create a design matrix for polynomial regression using broadcasting\n",
    "    \n",
    "    Args:\n",
    "        x (np.array): observations (N, )\n",
    "        deg (int): degree of polynomial\n",
    "    \n",
    "    Returns:\n",
    "        Phi (np.array): design matrix in PRML (3.16), (N, M)\n",
    "    \"\"\"\n",
    "    M = deg + 1  # M includes the bias term\n",
    "    N = len(x)\n",
    "\n",
    "    Phi = x[:, np.newaxis] ** np.arange(M)[np.newaxis, :]  # (N, 1) ** (1, M)\n",
    "    \n",
    "    return Phi"
   ]
  },
  {
   "cell_type": "code",
   "execution_count": 11,
   "id": "ab3d90e6-c441-42da-8b93-8005010f3beb",
   "metadata": {},
   "outputs": [],
   "source": [
    "Phi = create_design_matrix(x, deg=9)"
   ]
  },
  {
   "cell_type": "code",
   "execution_count": 12,
   "id": "2ce22aa4-8bc3-4e6b-b077-09cf4bd6675d",
   "metadata": {},
   "outputs": [],
   "source": [
    "def solve_normal_equation(Phi, t, ln_lambda):\n",
    "    \"\"\"solve the normal equation for linear reqression (3.15)\n",
    "    \n",
    "    Args:\n",
    "        Phi (np.array): design matrix (N, M)\n",
    "        t (np.array): target values (N, )\n",
    "        ln_lambda (float): natural log of the regularization parameter\n",
    "    \n",
    "    Returns:\n",
    "        w_ML (np.array): coefficients including the bias term (M + 1, )\n",
    "    \"\"\"\n",
    "    lambda_ = np.exp(ln_lambda)\n",
    "    M = Phi.shape[1]\n",
    "    A = lambda_ * np.eye(M) + Phi.T @ Phi\n",
    "    B = Phi.T @ t\n",
    "    w_ML = np.linalg.solve(A, B)  # faster and numerically more stable than np.linalg.inv\n",
    "    \n",
    "    return w_ML"
   ]
  },
  {
   "cell_type": "code",
   "execution_count": 13,
   "id": "37b5be7a-2e11-4f0f-9059-1a7abecf198d",
   "metadata": {},
   "outputs": [],
   "source": [
    "def poly_fit(x, t, x_grid, deg, ln_lambda):\n",
    "    \"\"\"\n",
    "    Args:\n",
    "        x (np.array): inputs (N, )\n",
    "        t (np.array): target values (N, )\n",
    "        x_grid (np.array): input values for making predictions (N_grid, )\n",
    "        deg (int): degree of the polynomial\n",
    "        ln_lambda (float): natural log of theregularization paramter\n",
    "        \n",
    "    Returns:\n",
    "        t_pred (np.array): predicted values for x_grid (N_grid, )\n",
    "        w_ML (np.array): coefficients (M, 1)\n",
    "    \"\"\"\n",
    "    Phi = create_design_matrix(x, deg)\n",
    "    w_ML = solve_normal_equation(Phi, t, ln_lambda)\n",
    "    \n",
    "    Phi_2 = create_design_matrix(x_grid, deg)\n",
    "    t_pred = Phi_2 @ w_ML\n",
    "    \n",
    "    return t_pred, w_ML"
   ]
  },
  {
   "cell_type": "code",
   "execution_count": 14,
   "id": "3d27dc1e-6863-433c-a7e2-751eab58ce9b",
   "metadata": {},
   "outputs": [],
   "source": [
    "def plot_fit(x, t, x_grid, t_pred, ax, ln_lambda):\n",
    "    ax.scatter(x, t, facecolors='none', edgecolors='b', s=60)\n",
    "    ax.plot(x_grid, t_grid , 'g')\n",
    "    ax.plot(x_grid, t_pred, 'r')\n",
    "    ax.text(x=0.7, y=0.9, s=r'ln $\\lambda$ = ' + f'{ln_lambda}', fontsize=14) \n",
    "    ax.set_xlim([-0.1, 1.1])\n",
    "    ax.set_ylim([-1.4, 1.4])\n",
    "    ax.set_xticks(ticks=[0, 1])\n",
    "    ax.set_yticks(ticks=[-1, 0, 1])\n",
    "    ax.set_xlabel('x', fontsize=12)\n",
    "    ax.set_ylabel('t', fontsize=12)"
   ]
  },
  {
   "cell_type": "code",
   "execution_count": 15,
   "id": "0046425b-2895-4371-b68e-294eea11e20b",
   "metadata": {},
   "outputs": [
    {
     "data": {
      "image/png": "[encoded data removed]",
      "text/plain": [
       "<Figure size 1200x400 with 2 Axes>"
      ]
     },
     "metadata": {},
     "output_type": "display_data"
    }
   ],
   "source": [
    "fig, axs = plt.subplots(1, 2, figsize=(12, 4))\n",
    "ln_lambda_list = [-18, 0]\n",
    "for i, ln_lambda in enumerate(ln_lambda_list):\n",
    "    t_pred, _ = poly_fit(x, t, x_grid, deg=9, ln_lambda=ln_lambda)\n",
    "    plot_fit(x, t, x_grid, t_pred, axs[i], ln_lambda)"
   ]
  },
  {
   "cell_type": "markdown",
   "id": "547638b6-cac8-4430-8017-badbab1827ae",
   "metadata": {},
   "source": [
    "## Examine the coefficients (Table 1.1)"
   ]
  },
  {
   "cell_type": "code",
   "execution_count": 16,
   "id": "4e417f50-96b9-4bdc-9ff0-7ff843879f6d",
   "metadata": {},
   "outputs": [],
   "source": [
    "np.set_printoptions(precision=2)"
   ]
  },
  {
   "cell_type": "code",
   "execution_count": 17,
   "id": "12c89a52-32de-468e-adb9-0501d0591659",
   "metadata": {},
   "outputs": [],
   "source": [
    "def print_coefs(x, t, ln_lambda):\n",
    "    \"\"\"\n",
    "    Args:\n",
    "        x (np.array, float): inputs\n",
    "        t (np.array, float): target values\n",
    "        lambda_ (float): regulariztation parameter\n",
    "        \n",
    "    Returns:\n",
    "        prints the coefficients\n",
    "    \"\"\"\n",
    "    _, coef = poly_fit(x, t, x_grid, deg=9, ln_lambda=ln_lambda)\n",
    "    print('\\n'.join([f'w{i}:  {c:.2f}' for i, c in enumerate(coef)]))"
   ]
  },
  {
   "cell_type": "code",
   "execution_count": 18,
   "id": "90bc5ee2-0c2b-432b-b529-c5d1f646fe9a",
   "metadata": {},
   "outputs": [
    {
     "name": "stdout",
     "output_type": "stream",
     "text": [
      "w0:  0.35\n",
      "w1:  232.46\n",
      "w2:  -5324.05\n",
      "w3:  48588.33\n",
      "w4:  -231733.32\n",
      "w5:  640298.23\n",
      "w6:  -1062219.32\n",
      "w7:  1042806.03\n",
      "w8:  -557897.51\n",
      "w9:  125249.06\n"
     ]
    }
   ],
   "source": [
    "print_coefs(x, t, ln_lambda=-np.inf)"
   ]
  },
  {
   "cell_type": "code",
   "execution_count": 19,
   "id": "12b9859a-3532-41e8-b88b-58b0cd3bf1ce",
   "metadata": {},
   "outputs": [
    {
     "name": "stdout",
     "output_type": "stream",
     "text": [
      "w0:  0.35\n",
      "w1:  5.77\n",
      "w2:  -14.97\n",
      "w3:  29.86\n",
      "w4:  -95.62\n",
      "w5:  35.17\n",
      "w6:  168.71\n",
      "w7:  -18.04\n",
      "w8:  -273.18\n",
      "w9:  162.19\n"
     ]
    }
   ],
   "source": [
    "print_coefs(x, t, ln_lambda=-18)"
   ]
  },
  {
   "cell_type": "code",
   "execution_count": 20,
   "id": "5c0dc17d-0639-4278-92a5-b37b3c6eb3b9",
   "metadata": {},
   "outputs": [
    {
     "name": "stdout",
     "output_type": "stream",
     "text": [
      "w0:  0.46\n",
      "w1:  -0.34\n",
      "w2:  -0.37\n",
      "w3:  -0.24\n",
      "w4:  -0.12\n",
      "w5:  -0.02\n",
      "w6:  0.05\n",
      "w7:  0.11\n",
      "w8:  0.16\n",
      "w9:  0.20\n"
     ]
    }
   ],
   "source": [
    "print_coefs(x, t, ln_lambda=0)"
   ]
  },
  {
   "cell_type": "markdown",
   "id": "1204604e-6809-46c6-9562-ef425d87cbb2",
   "metadata": {},
   "source": [
    "# RMS as a function of $\\lambda$"
   ]
  },
  {
   "cell_type": "code",
   "execution_count": 21,
   "id": "f56bf9ea-8063-4bae-be16-89391b1f81c4",
   "metadata": {},
   "outputs": [],
   "source": [
    "def RMS(t_pred, t):\n",
    "    return np.sqrt(np.mean(((t_pred - t) ** 2)))"
   ]
  },
  {
   "cell_type": "code",
   "execution_count": 22,
   "id": "4a7ac8fc-09bf-4844-a1d6-c0277be6714f",
   "metadata": {},
   "outputs": [],
   "source": [
    "def poly_fit_RMS(x, t, x_test, t_test, deg, ln_lambda):\n",
    "    \"\"\"\n",
    "    Args:\n",
    "        x (np.array): inputs (N, )\n",
    "        t (np.array): target values (N, )\n",
    "        x_test (np.array): input values for making predictions (N_test, )\n",
    "        deg (int): degree of the polynomial\n",
    "        ln_lambda (float): natural log of theregularization paramter\n",
    "        \n",
    "    Returns:\n",
    "        t_pred (np.array): predicted values for x_grid (N_grid, )\n",
    "        w_ML (np.array): coefficients (M, 1)\n",
    "    \"\"\"\n",
    "    t_pred, _ = poly_fit(x, t, x, deg, ln_lambda)\n",
    "    RMS_train = RMS(t_pred, t)\n",
    "    \n",
    "    t_pred, _ = poly_fit(x, t, x_test, deg, ln_lambda)\n",
    "    RMS_test = RMS(t_pred, t_test)\n",
    "    \n",
    "    return RMS_train, RMS_test"
   ]
  },
  {
   "cell_type": "code",
   "execution_count": 23,
   "id": "1bfdf81e-1f51-45e3-b883-49df59e46d46",
   "metadata": {},
   "outputs": [],
   "source": [
    "ln_lambda_list = np.linspace(-40, 5, 50)\n",
    "\n",
    "RMS_train_list = []\n",
    "RMS_test_list = []\n",
    "\n",
    "for ln_lambda in ln_lambda_list:\n",
    "    RMS_train, RMS_test = poly_fit_RMS(x, t, x_test, t_test, deg=9, ln_lambda=ln_lambda)\n",
    "    RMS_train_list.append(RMS_train)\n",
    "    RMS_test_list.append(RMS_test)\n",
    "\n",
    "E_train = np.array(RMS_train_list)\n",
    "E_test = np.array(RMS_test_list)"
   ]
  },
  {
   "cell_type": "code",
   "execution_count": 24,
   "id": "4144dc86-402b-4edf-98c0-9219964b0f42",
   "metadata": {},
   "outputs": [
    {
     "data": {
      "image/png": "[encoded data removed]",
      "text/plain": [
       "<Figure size 640x480 with 1 Axes>"
      ]
     },
     "metadata": {},
     "output_type": "display_data"
    }
   ],
   "source": [
    "plt.plot(ln_lambda_list, E_train, 'b-', markerfacecolor='none', ms=10, label='Training')\n",
    "plt.plot(ln_lambda_list, E_test, 'r-', markerfacecolor='none', ms=10, label='Test')\n",
    "plt.ylim(-0.02, E_test.max() + 0.2)\n",
    "plt.legend()\n",
    "plt.xticks(ticks=np.arange(-35, 15, 5))\n",
    "plt.yticks(ticks=[0, 0.5, 1])\n",
    "plt.xlabel(r'$\\ln \\lambda$', fontsize=14)\n",
    "plt.ylabel(r'$E_{RMS}$', fontsize=14)\n",
    "plt.show()"
   ]
  }
 ],
 "metadata": {
  "kernelspec": {
   "display_name": "Python 3 (ipykernel)",
   "language": "python",
   "name": "python3"
  },
  "language_info": {
   "codemirror_mode": {
    "name": "ipython",
    "version": 3
   },
   "file_extension": ".py",
   "mimetype": "text/x-python",
   "name": "python",
   "nbconvert_exporter": "python",
   "pygments_lexer": "ipython3",
   "version": "3.10.11"
  }
 },
 "nbformat": 4,
 "nbformat_minor": 5
}
