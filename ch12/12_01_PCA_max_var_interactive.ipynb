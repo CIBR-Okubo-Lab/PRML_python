{
 "cells": [
  {
   "cell_type": "markdown",
   "id": "86f29918-c039-4795-8a9f-5b94c149f97f",
   "metadata": {},
   "source": [
    "# 12.1.1 Maximum variance formulation of PCA\n",
    "Old Faithful data from [here](http://research.microsoft.com/en-us/um/people/cmbishop/PRML/webdatasets/faithful.txt)."
   ]
  },
  {
   "cell_type": "code",
   "execution_count": 1,
   "id": "82e3c20c-e3ab-4f81-a72a-fb732418bc5d",
   "metadata": {},
   "outputs": [],
   "source": [
    "from IPython.display import display\n",
    "from ipywidgets import interactive_output, FloatSlider, VBox, Layout\n",
    "import matplotlib\n",
    "from matplotlib.collections import LineCollection\n",
    "import matplotlib.pyplot as plt\n",
    "import numpy as np"
   ]
  },
  {
   "cell_type": "markdown",
   "id": "b67e29be-1fcd-4efe-8c1f-ee8b760e68d8",
   "metadata": {},
   "source": [
    "## Load the data and standarize"
   ]
  },
  {
   "cell_type": "code",
   "execution_count": 2,
   "id": "50091761-eb0a-47d0-98fe-0104c738af91",
   "metadata": {},
   "outputs": [
    {
     "data": {
      "text/plain": [
       "(272, 2)"
      ]
     },
     "execution_count": 2,
     "metadata": {},
     "output_type": "execute_result"
    }
   ],
   "source": [
    "data = np.loadtxt('../data/old_faithful/faithful.txt', dtype=str, delimiter=' ')\n",
    "data = data.astype(np.float64)\n",
    "data.shape"
   ]
  },
  {
   "cell_type": "code",
   "execution_count": 3,
   "id": "ed998fa8-c384-4661-96b8-87d48d52d9cc",
   "metadata": {},
   "outputs": [
    {
     "name": "stdout",
     "output_type": "stream",
     "text": [
      "N=272, D=2\n"
     ]
    }
   ],
   "source": [
    "N = data.shape[0]  # number of data points\n",
    "D = data.shape[1]  # dimension of data\n",
    "print(f'{N=}, {D=}')"
   ]
  },
  {
   "cell_type": "code",
   "execution_count": 4,
   "id": "75e08d69-3175-450e-b0dd-21e82042195c",
   "metadata": {},
   "outputs": [],
   "source": [
    " # standarize the data\n",
    "MEAN = np.mean(data, axis=0, keepdims=True)\n",
    "SD = np.std(data, axis=0, keepdims=True) \n",
    "X = (data - MEAN) / SD "
   ]
  },
  {
   "cell_type": "code",
   "execution_count": 5,
   "id": "4e492a08-431e-486a-b7ed-027165f3a52e",
   "metadata": {},
   "outputs": [
    {
     "data": {
      "text/plain": [
       "array([4.48579082e-16, 4.27048103e-16])"
      ]
     },
     "execution_count": 5,
     "metadata": {},
     "output_type": "execute_result"
    }
   ],
   "source": [
    "# confirm zero mean\n",
    "np.mean(X, axis=0)"
   ]
  },
  {
   "cell_type": "code",
   "execution_count": 6,
   "id": "31d5bf1a-7c8d-4d28-b008-f148c16be439",
   "metadata": {},
   "outputs": [
    {
     "data": {
      "text/plain": [
       "array([1., 1.])"
      ]
     },
     "execution_count": 6,
     "metadata": {},
     "output_type": "execute_result"
    }
   ],
   "source": [
    "# confirm unit variance\n",
    "np.std(X, axis=0)  "
   ]
  },
  {
   "cell_type": "code",
   "execution_count": 7,
   "id": "0f4573a3",
   "metadata": {},
   "outputs": [
    {
     "data": {
      "text/plain": [
       "array([[1.        , 0.90081117],\n",
       "       [0.90081117, 1.        ]])"
      ]
     },
     "execution_count": 7,
     "metadata": {},
     "output_type": "execute_result"
    }
   ],
   "source": [
    "x_bar = np.mean(X, axis=0)  #  (12.1)\n",
    "S = (X-x_bar).T @ (X-x_bar) / N  # (12.3)\n",
    "S"
   ]
  },
  {
   "cell_type": "code",
   "execution_count": 8,
   "id": "a1aaa3d1",
   "metadata": {},
   "outputs": [],
   "source": [
    "thetas = np.linspace(0, 2*np.pi, 100)"
   ]
  },
  {
   "cell_type": "code",
   "execution_count": 9,
   "id": "e721c8be",
   "metadata": {},
   "outputs": [],
   "source": [
    "var = []\n",
    "for theta in thetas:\n",
    "    u_1 = np.array([np.cos(theta), np.sin(theta)])\n",
    "    u_1 = u_1 / np.linalg.norm(u_1)  # normalize\n",
    "    var.append(u_1.T @ S @ u_1)"
   ]
  },
  {
   "cell_type": "code",
   "execution_count": 10,
   "id": "7b068a85",
   "metadata": {},
   "outputs": [
    {
     "data": {
      "image/png": "[encoded data removed]",
      "text/plain": [
       "<Figure size 500x300 with 1 Axes>"
      ]
     },
     "metadata": {},
     "output_type": "display_data"
    }
   ],
   "source": [
    "fig, ax = plt.subplots(figsize=(5, 3))\n",
    "ax.plot(np.rad2deg(thetas), var, 'b')\n",
    "ax.set_xlabel('angle of u_1 (degree)')\n",
    "ax.set_ylabel('variance')\n",
    "ax.set_xticks(np.arange(0, 361, 45))\n",
    "ax.set_yticks(np.arange(0, 3, 1))\n",
    "ax.set_ylim(0, 2)\n",
    "ax.spines['right'].set_visible(False)\n",
    "ax.spines['top'].set_visible(False)"
   ]
  },
  {
   "cell_type": "code",
   "execution_count": 11,
   "id": "7d7d87c9",
   "metadata": {},
   "outputs": [],
   "source": [
    "def project(X, S, u_1):\n",
    "    \"\"\"Given an angle theta, project the data onto the unit vector\n",
    "\n",
    "    Args:\n",
    "        X (np.array): data points of shape (N, D)\n",
    "        S (np.array): covariance matrix of shape (D, D)\n",
    "        u_1 (np.array): projection direction as a unit vector of shape (D, 1)\n",
    "\n",
    "    Returns:\n",
    "        alpha (np.array): projected data of shape (N, )\n",
    "        var (float): variance of the projected data\n",
    "    \"\"\"\n",
    "    alpha = X @ u_1  # project data onto u_1\n",
    "    var = u_1.T @ S @ u_1  # variance of projected data\n",
    "    return alpha, var.item()"
   ]
  },
  {
   "cell_type": "code",
   "execution_count": 12,
   "id": "3595aeeb",
   "metadata": {},
   "outputs": [],
   "source": [
    "def plot_pca(theta_deg):\n",
    "    theta = np.deg2rad(theta_deg)  # convert degree to radian\n",
    "    u_1 = np.array([np.cos(theta), np.sin(theta)])  # orthonormal vector indicating the projection direction\n",
    "    u_1 = u_1[:, np.newaxis]  # reshape to (D, 1)\n",
    "    alpha, var = project(X, S, u_1) \n",
    "    X_tilde = alpha @ u_1.T  # projected points, shape: (N, D)\n",
    "\n",
    "    lines = np.stack([X, X_tilde], axis=1)\n",
    "    lc = LineCollection(lines, colors='b', linestyles=':', alpha=0.3)\n",
    "      \n",
    "    fig, (ax1, ax2) = plt.subplots(1, 2, figsize=(12, 5))\n",
    "    ax1.add_collection(lc)\n",
    "    ax1.scatter(X[:,0], X[:,1], edgecolor='g', facecolor='none', s=60, lw=1.5)  # original data points\n",
    "    ax1.scatter(X_tilde[:,0], X_tilde[:,1], edgecolor='b', facecolor='none', s=10, lw=1)  # projected points\n",
    "    ax1.plot([-3*u_1[0],  3*u_1[0]], [-3*u_1[1],  3*u_1[1]], color='red', lw=2)  # projection direction\n",
    "    ax1.set_xticks(np.arange(-2, 3, 2))\n",
    "    ax1.set_yticks(np.arange(-2, 3, 2))\n",
    "    ax1.set_xlim(-2.4, 2.4)\n",
    "    ax1.set_ylim(-2.4, 2.4)\n",
    "    ax1.set_aspect('equal', 'box')\n",
    "    \n",
    "    # histogram of projected values\n",
    "    ax2.hist(alpha, bins=np.linspace(-3, 3, 40), color='blue', edgecolor='none')\n",
    "    ax2.set_title(f'variance: {var:.3f}', fontsize=14)\n",
    "    ax2.set_xlabel('Projected value', fontsize=12)\n",
    "    ax2.set_ylabel('Count', fontsize=12)\n",
    "    ax2.set_xlim(-3, 3)\n",
    "    ax2.set_ylim(0, 60)\n",
    "    ax2.spines['right'].set_visible(False)\n",
    "    ax2.spines['top'].set_visible(False)\n",
    "    \n",
    "    plt.tight_layout()\n",
    "    plt.show()"
   ]
  },
  {
   "cell_type": "code",
   "execution_count": null,
   "id": "996794e1",
   "metadata": {},
   "outputs": [],
   "source": [
    "theta_slider = FloatSlider(\n",
    "    min=-0,\n",
    "    max=360,\n",
    "    step=1,\n",
    "    value=0.0,\n",
    "    description='direction of u_1 (deg):',\n",
    "    continuous_update=True,\n",
    "    readout_format='.2f'\n",
    ")"
   ]
  },
  {
   "cell_type": "code",
   "execution_count": 14,
   "id": "7dc03152",
   "metadata": {},
   "outputs": [],
   "source": [
    "out = interactive_output(plot_pca, {'theta_deg': theta_slider})"
   ]
  },
  {
   "cell_type": "code",
   "execution_count": 15,
   "id": "2d6e7b65",
   "metadata": {},
   "outputs": [
    {
     "data": {
      "application/vnd.jupyter.widget-view+json": {
       "model_id": "4c3def81332c49e1bdba3ace5ca81a21",
       "version_major": 2,
       "version_minor": 0
      },
      "text/plain": [
       "VBox(children=(FloatSlider(value=0.0, description='θ (deg):', max=360.0, step=1.0), Output(outputs=({'output_t…"
      ]
     },
     "metadata": {},
     "output_type": "display_data"
    }
   ],
   "source": [
    "display(VBox([theta_slider, out]))"
   ]
  }
 ],
 "metadata": {
  "kernelspec": {
   "display_name": "torch",
   "language": "python",
   "name": "python3"
  },
  "language_info": {
   "codemirror_mode": {
    "name": "ipython",
    "version": 3
   },
   "file_extension": ".py",
   "mimetype": "text/x-python",
   "name": "python",
   "nbconvert_exporter": "python",
   "pygments_lexer": "ipython3",
   "version": "3.10.11"
  }
 },
 "nbformat": 4,
 "nbformat_minor": 5
}
