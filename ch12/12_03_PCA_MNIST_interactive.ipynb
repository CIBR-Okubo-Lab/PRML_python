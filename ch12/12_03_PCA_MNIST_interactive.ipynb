{
 "cells": [
  {
   "cell_type": "markdown",
   "id": "04504242",
   "metadata": {},
   "source": [
    "# Example of PCA on MNIST\n",
    "Fig. 12.3 of PRML, Fig. 16.5 of Deep Learning\n",
    "\n",
    "Tatsuo Okubo\n",
    "\n",
    "2025/07/16"
   ]
  },
  {
   "cell_type": "code",
   "execution_count": 1,
   "id": "09ccfe05",
   "metadata": {},
   "outputs": [],
   "source": [
    "import ipywidgets as widgets\n",
    "from IPython.display import display\n",
    "from matplotlib.colors import LinearSegmentedColormap, TwoSlopeNorm\n",
    "import matplotlib.pyplot as plt\n",
    "import numpy as np\n",
    "from torchvision.datasets import MNIST\n",
    "from torchvision import transforms\n",
    "from torch.utils.data import Subset"
   ]
  },
  {
   "cell_type": "code",
   "execution_count": 2,
   "id": "3d927077",
   "metadata": {},
   "outputs": [],
   "source": [
    "train_ds = MNIST(root=\"../data\", train=True, download=False,\n",
    "                 transform=transforms.ToTensor())\n",
    "\n",
    "mask = train_ds.targets == 3\n",
    "X  = train_ds.data[mask].numpy()"
   ]
  },
  {
   "cell_type": "code",
   "execution_count": 3,
   "id": "e2dfa787",
   "metadata": {},
   "outputs": [
    {
     "name": "stdout",
     "output_type": "stream",
     "text": [
      "Number of samples: 6131\n"
     ]
    }
   ],
   "source": [
    "N = X.shape[0]  # number of samples\n",
    "print(f\"Number of samples: {N}\")"
   ]
  },
  {
   "cell_type": "code",
   "execution_count": 4,
   "id": "30dc4b67",
   "metadata": {},
   "outputs": [
    {
     "data": {
      "text/plain": [
       "(6131, 784)"
      ]
     },
     "execution_count": 4,
     "metadata": {},
     "output_type": "execute_result"
    }
   ],
   "source": [
    "X = X.reshape(N, -1)\n",
    "X.shape  # flatten to [N, 784]"
   ]
  },
  {
   "cell_type": "code",
   "execution_count": 5,
   "id": "3a5d2abb",
   "metadata": {},
   "outputs": [],
   "source": [
    "x_bar = np.mean(X, axis=0)  # mean vector\n",
    "X_demean =  X - x_bar"
   ]
  },
  {
   "cell_type": "code",
   "execution_count": 6,
   "id": "ae0776f8",
   "metadata": {},
   "outputs": [
    {
     "data": {
      "text/plain": [
       "(784, 784)"
      ]
     },
     "execution_count": 6,
     "metadata": {},
     "output_type": "execute_result"
    }
   ],
   "source": [
    "S = (1.0 / N) * X_demean.T @ X_demean  # data covariance matrix\n",
    "S.shape"
   ]
  },
  {
   "cell_type": "code",
   "execution_count": 7,
   "id": "e234480e",
   "metadata": {},
   "outputs": [],
   "source": [
    "lambdas, U = np.linalg.eigh(S)\n",
    "idx = lambdas.argsort()[::-1]\n",
    "lambdas = lambdas[idx]\n",
    "U = U[:, idx]"
   ]
  },
  {
   "cell_type": "code",
   "execution_count": 8,
   "id": "420e7e8f",
   "metadata": {},
   "outputs": [],
   "source": [
    "J = np.sum(lambdas) - np.cumsum(lambdas)"
   ]
  },
  {
   "cell_type": "markdown",
   "id": "7f6509de",
   "metadata": {},
   "source": [
    "# Plot the eigenvectors"
   ]
  },
  {
   "cell_type": "code",
   "execution_count": 9,
   "id": "ba049e72",
   "metadata": {},
   "outputs": [],
   "source": [
    "cmap_blue = LinearSegmentedColormap.from_list(\"white_blue\", [\"white\", \"blue\"], N=256)"
   ]
  },
  {
   "cell_type": "code",
   "execution_count": 10,
   "id": "03b39729",
   "metadata": {},
   "outputs": [
    {
     "data": {
      "image/png": "[encoded data removed]",
      "text/plain": [
       "<Figure size 1000x200 with 5 Axes>"
      ]
     },
     "metadata": {},
     "output_type": "display_data"
    }
   ],
   "source": [
    "fig, ax = plt.subplots(1, 5, figsize=(10, 2))\n",
    "ax[0].imshow(x_bar.reshape(28, 28), cmap=cmap_blue)\n",
    "ax[1].imshow(U[:, 0].reshape(28, 28))\n",
    "ax[2].imshow(U[:, 1].reshape(28, 28))\n",
    "ax[3].imshow(U[:, 2].reshape(28, 28))\n",
    "ax[4].imshow(-U[:, 3].reshape(28, 28))\n",
    "\n",
    "for i in range(5):\n",
    "    ax[i].set_xticks([])\n",
    "    ax[i].set_yticks([])\n",
    "    if i == 0:\n",
    "        ax[i].set_title(\"Mean\", fontsize=10)\n",
    "    else:\n",
    "        ax[i].set_title(f\"$\\\\lambda_{i}$ = {lambdas[i-1]:.1e}\", fontsize=10)\n",
    "\n",
    "plt.show()"
   ]
  },
  {
   "cell_type": "markdown",
   "id": "ecebe9c5",
   "metadata": {},
   "source": [
    "# Plot the eigenvalues"
   ]
  },
  {
   "cell_type": "code",
   "execution_count": 11,
   "id": "c691a424",
   "metadata": {},
   "outputs": [
    {
     "data": {
      "image/png": "[encoded data removed]",
      "text/plain": [
       "<Figure size 1000x200 with 2 Axes>"
      ]
     },
     "metadata": {},
     "output_type": "display_data"
    }
   ],
   "source": [
    "# Fig. 12. 5 of PRML, Fig. 16.4 of Deep Learning\n",
    "fig, ax = plt.subplots(1, 2, figsize=(10, 2))\n",
    "ax[0].plot(lambdas, lw=2)\n",
    "ax[0].set_xlim(-4, len(lambdas))\n",
    "ax[0].set_ylim(-1000, 3.5e5)\n",
    "ax[0].set_xticks(np.arange(0, len(lambdas), 200))\n",
    "ax[0].set_yticks(np.arange(0, 3.5e5, 1e5))\n",
    "ax[0].ticklabel_format(style='sci', axis='y', scilimits=(0,0), useMathText=True)\n",
    "ax[0].tick_params(axis='both', which='both', direction='in', top=True, right=True)\n",
    "ax[0].set_xlabel('i', fontsize=14)\n",
    "ax[0].set_ylabel(r'$\\lambda_i$', fontsize=14)\n",
    "\n",
    "ax[1].plot(J, lw=2)\n",
    "ax[1].set_xlim(-4, len(lambdas))\n",
    "ax[1].set_ylim(-1000, 3.5e6)\n",
    "ax[1].set_xticks(np.arange(0, len(lambdas), 200))\n",
    "ax[1].set_yticks(np.arange(0, 3.5e6, 1e6))\n",
    "ax[1].ticklabel_format(style='sci', axis='y', scilimits=(0,0), useMathText=True)\n",
    "ax[1].tick_params(axis='both', which='both', direction='in', top=True, right=True)\n",
    "ax[1].set_xlabel('M', fontsize=14)\n",
    "ax[1].set_ylabel('J', fontsize=14)\n",
    "plt.show()"
   ]
  },
  {
   "cell_type": "markdown",
   "id": "872df53b",
   "metadata": {},
   "source": [
    "# Reconstruction example"
   ]
  },
  {
   "cell_type": "code",
   "execution_count": 12,
   "id": "872d82c4",
   "metadata": {},
   "outputs": [],
   "source": [
    "n = 5"
   ]
  },
  {
   "cell_type": "code",
   "execution_count": 13,
   "id": "5aa22259",
   "metadata": {},
   "outputs": [],
   "source": [
    "def reconstruct(M):\n",
    "    \"\"\"Reconstruct the image using the first M principal components.\n",
    "    Args:\n",
    "        M (int): Number of principal components to use for reconstruction.\n",
    "    Returns:\n",
    "        np.ndarray: Reconstructed image.\n",
    "    \"\"\"\n",
    "    x_tilde = x_bar.copy()\n",
    "    for i in range(M):  # not an efficient implementation, just for compatibility with the textbook equation\n",
    "        x_tilde += (X[n] @ U[:, i] - x_bar @ U[:, i]) * U[:, i]  # eq (12.20)\n",
    "    return x_tilde\n"
   ]
  },
  {
   "cell_type": "code",
   "execution_count": 14,
   "id": "3408e63e",
   "metadata": {},
   "outputs": [
    {
     "data": {
      "image/png": "[encoded data removed]",
      "text/plain": [
       "<Figure size 1000x200 with 5 Axes>"
      ]
     },
     "metadata": {},
     "output_type": "display_data"
    }
   ],
   "source": [
    "M_list = [1, 10, 50, 250]\n",
    "\n",
    "fig, ax = plt.subplots(1, 5, figsize=(10, 2))\n",
    "ax[0].imshow(X[n].reshape(28, 28), cmap=cmap_blue)\n",
    "ax[0].set_title(\"Original\", fontsize=10)\n",
    "ax[0].set_xticks([])\n",
    "ax[0].set_yticks([])\n",
    "\n",
    "for i, m in enumerate(M_list):\n",
    "    x_tilde = reconstruct(m)\n",
    "    ax[i + 1].imshow(x_tilde.reshape(28, 28), cmap=cmap_blue)\n",
    "    ax[i + 1].set_title(f\"M = {m}\", fontsize=10)\n",
    "    ax[i + 1].set_xticks([])\n",
    "    ax[i + 1].set_yticks([])\n",
    "plt.show()"
   ]
  },
  {
   "cell_type": "code",
   "execution_count": 15,
   "id": "eecfc778",
   "metadata": {},
   "outputs": [],
   "source": [
    "def show_reconstruction(M: int):\n",
    "    x_orig = X[n].reshape(28, 28)\n",
    "    x_tilde = reconstruct(M).reshape(28, 28)\n",
    "\n",
    "    fig, ax = plt.subplots(1, 2, figsize=(6, 3))\n",
    "    ax[0].imshow(x_orig, cmap=cmap_blue)\n",
    "    ax[0].set_title(\"Original\")\n",
    "    ax[0].axis('off')\n",
    "\n",
    "    ax[1].imshow(x_tilde, cmap=cmap_blue)\n",
    "    ax[1].set_title(f\"Reconstructed\\nM = {M}\")\n",
    "    ax[1].axis('off')\n",
    "\n",
    "    plt.show()"
   ]
  },
  {
   "cell_type": "code",
   "execution_count": 16,
   "id": "7c636f7e",
   "metadata": {},
   "outputs": [],
   "source": [
    "max_pcs = U.shape[1]\n",
    "\n",
    "pc_slider = widgets.IntSlider(\n",
    "    value=1,\n",
    "    min=1,\n",
    "    max=max_pcs,\n",
    "    step=1,\n",
    "    description='# of PCs:',\n",
    "    continuous_update=False\n",
    ")"
   ]
  },
  {
   "cell_type": "code",
   "execution_count": 17,
   "id": "4ae73067",
   "metadata": {},
   "outputs": [
    {
     "data": {
      "application/vnd.jupyter.widget-view+json": {
       "model_id": "476c9df4bc8b4be7aa6300b91c08101c",
       "version_major": 2,
       "version_minor": 0
      },
      "text/plain": [
       "interactive(children=(IntSlider(value=1, continuous_update=False, description='# of PCs:', max=784, min=1), Ou…"
      ]
     },
     "metadata": {},
     "output_type": "display_data"
    },
    {
     "data": {
      "text/plain": [
       "<function __main__.show_reconstruction(M: int)>"
      ]
     },
     "metadata": {},
     "output_type": "display_data"
    }
   ],
   "source": [
    "display(widgets.interact(show_reconstruction, M=pc_slider))"
   ]
  }
 ],
 "metadata": {
  "kernelspec": {
   "display_name": "torch",
   "language": "python",
   "name": "python3"
  },
  "language_info": {
   "codemirror_mode": {
    "name": "ipython",
    "version": 3
   },
   "file_extension": ".py",
   "mimetype": "text/x-python",
   "name": "python",
   "nbconvert_exporter": "python",
   "pygments_lexer": "ipython3",
   "version": "3.10.11"
  }
 },
 "nbformat": 4,
 "nbformat_minor": 5
}
